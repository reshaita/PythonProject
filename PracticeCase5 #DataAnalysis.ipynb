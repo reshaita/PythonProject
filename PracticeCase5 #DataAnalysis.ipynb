{
 "cells": [
  {
   "cell_type": "markdown",
   "metadata": {},
   "source": [
    "## Practice Case #5\n",
    "# Data Analysis\n",
    "# [Analyzing Ritz-Jager Hotel Data]\n",
    "\n",
    "Arranged by **Rezki Hadiansah**"
   ]
  },
  {
   "cell_type": "markdown",
   "metadata": {},
   "source": [
    "I’ve landed a great job with the Ritz-Jager Hotel operator as a data scientist. This hotel operator wants to improve their business efficiency by utilizing their historical data and they want to find out what happened in their previous bookings, knowing their customer better, and optimizing the promo timing.\n",
    "\n",
    "My team of engineer have to analyze the data that they have based on the pre-defined questions that my CEO gave. \n",
    "\n",
    "**Questions:**\n",
    "\n",
    "1. Where do the guests come from?\n",
    "2. How much do guests pay for a room per night?\n",
    "3. How does the price per night vary over the year?\n",
    "4. Which are the busiest months?\n",
    "5. How long do people stay at the hotels?\n",
    "6. Bookings by market segment\n",
    "7. How many bookings were cancelled?\n",
    "8. Which month has the highest number of cancellations?"
   ]
  },
  {
   "cell_type": "code",
   "execution_count": 1,
   "metadata": {},
   "outputs": [],
   "source": [
    "#Import the package\n",
    "\n",
    "import pandas as pd\n",
    "import seaborn as sns\n",
    "import matplotlib.pyplot as plt\n",
    "import numpy as np\n",
    "import pycountry"
   ]
  },
  {
   "cell_type": "markdown",
   "metadata": {},
   "source": [
    "### Explore the Data first"
   ]
  },
  {
   "cell_type": "code",
   "execution_count": 2,
   "metadata": {},
   "outputs": [
    {
     "data": {
      "text/html": [
       "<div>\n",
       "<style scoped>\n",
       "    .dataframe tbody tr th:only-of-type {\n",
       "        vertical-align: middle;\n",
       "    }\n",
       "\n",
       "    .dataframe tbody tr th {\n",
       "        vertical-align: top;\n",
       "    }\n",
       "\n",
       "    .dataframe thead th {\n",
       "        text-align: right;\n",
       "    }\n",
       "</style>\n",
       "<table border=\"1\" class=\"dataframe\">\n",
       "  <thead>\n",
       "    <tr style=\"text-align: right;\">\n",
       "      <th></th>\n",
       "      <th>hotel_type</th>\n",
       "      <th>is_canceled</th>\n",
       "      <th>lead_time</th>\n",
       "      <th>arrival_date_year</th>\n",
       "      <th>arrival_date_month</th>\n",
       "      <th>arrival_date_week_number</th>\n",
       "      <th>arrival_date_day_of_month</th>\n",
       "      <th>stays_in_weekend_nights</th>\n",
       "      <th>stays_in_week_nights</th>\n",
       "      <th>adults</th>\n",
       "      <th>...</th>\n",
       "      <th>deposit_type</th>\n",
       "      <th>agent</th>\n",
       "      <th>company</th>\n",
       "      <th>days_in_waiting_list</th>\n",
       "      <th>customer_type</th>\n",
       "      <th>adr</th>\n",
       "      <th>required_car_parking_spaces</th>\n",
       "      <th>total_of_special_requests</th>\n",
       "      <th>reservation_status</th>\n",
       "      <th>reservation_status_date</th>\n",
       "    </tr>\n",
       "  </thead>\n",
       "  <tbody>\n",
       "    <tr>\n",
       "      <th>0</th>\n",
       "      <td>Resort Hotel</td>\n",
       "      <td>0</td>\n",
       "      <td>342</td>\n",
       "      <td>2015</td>\n",
       "      <td>July</td>\n",
       "      <td>27</td>\n",
       "      <td>1</td>\n",
       "      <td>0</td>\n",
       "      <td>0</td>\n",
       "      <td>2</td>\n",
       "      <td>...</td>\n",
       "      <td>No Deposit</td>\n",
       "      <td>NaN</td>\n",
       "      <td>NaN</td>\n",
       "      <td>0</td>\n",
       "      <td>Transient</td>\n",
       "      <td>0.0</td>\n",
       "      <td>0</td>\n",
       "      <td>0</td>\n",
       "      <td>Check-Out</td>\n",
       "      <td>1/7/2015</td>\n",
       "    </tr>\n",
       "    <tr>\n",
       "      <th>1</th>\n",
       "      <td>Resort Hotel</td>\n",
       "      <td>0</td>\n",
       "      <td>737</td>\n",
       "      <td>2015</td>\n",
       "      <td>July</td>\n",
       "      <td>27</td>\n",
       "      <td>1</td>\n",
       "      <td>0</td>\n",
       "      <td>0</td>\n",
       "      <td>2</td>\n",
       "      <td>...</td>\n",
       "      <td>No Deposit</td>\n",
       "      <td>NaN</td>\n",
       "      <td>NaN</td>\n",
       "      <td>0</td>\n",
       "      <td>Transient</td>\n",
       "      <td>0.0</td>\n",
       "      <td>0</td>\n",
       "      <td>0</td>\n",
       "      <td>Check-Out</td>\n",
       "      <td>1/7/2015</td>\n",
       "    </tr>\n",
       "    <tr>\n",
       "      <th>2</th>\n",
       "      <td>Resort Hotel</td>\n",
       "      <td>0</td>\n",
       "      <td>7</td>\n",
       "      <td>2015</td>\n",
       "      <td>July</td>\n",
       "      <td>27</td>\n",
       "      <td>1</td>\n",
       "      <td>0</td>\n",
       "      <td>1</td>\n",
       "      <td>1</td>\n",
       "      <td>...</td>\n",
       "      <td>No Deposit</td>\n",
       "      <td>NaN</td>\n",
       "      <td>NaN</td>\n",
       "      <td>0</td>\n",
       "      <td>Transient</td>\n",
       "      <td>75.0</td>\n",
       "      <td>0</td>\n",
       "      <td>0</td>\n",
       "      <td>Check-Out</td>\n",
       "      <td>2/7/2015</td>\n",
       "    </tr>\n",
       "    <tr>\n",
       "      <th>3</th>\n",
       "      <td>Resort Hotel</td>\n",
       "      <td>0</td>\n",
       "      <td>13</td>\n",
       "      <td>2015</td>\n",
       "      <td>July</td>\n",
       "      <td>27</td>\n",
       "      <td>1</td>\n",
       "      <td>0</td>\n",
       "      <td>1</td>\n",
       "      <td>1</td>\n",
       "      <td>...</td>\n",
       "      <td>No Deposit</td>\n",
       "      <td>304.0</td>\n",
       "      <td>NaN</td>\n",
       "      <td>0</td>\n",
       "      <td>Transient</td>\n",
       "      <td>75.0</td>\n",
       "      <td>0</td>\n",
       "      <td>0</td>\n",
       "      <td>Check-Out</td>\n",
       "      <td>2/7/2015</td>\n",
       "    </tr>\n",
       "    <tr>\n",
       "      <th>4</th>\n",
       "      <td>Resort Hotel</td>\n",
       "      <td>0</td>\n",
       "      <td>14</td>\n",
       "      <td>2015</td>\n",
       "      <td>July</td>\n",
       "      <td>27</td>\n",
       "      <td>1</td>\n",
       "      <td>0</td>\n",
       "      <td>2</td>\n",
       "      <td>2</td>\n",
       "      <td>...</td>\n",
       "      <td>No Deposit</td>\n",
       "      <td>240.0</td>\n",
       "      <td>NaN</td>\n",
       "      <td>0</td>\n",
       "      <td>Transient</td>\n",
       "      <td>98.0</td>\n",
       "      <td>0</td>\n",
       "      <td>1</td>\n",
       "      <td>Check-Out</td>\n",
       "      <td>3/7/2015</td>\n",
       "    </tr>\n",
       "  </tbody>\n",
       "</table>\n",
       "<p>5 rows × 32 columns</p>\n",
       "</div>"
      ],
      "text/plain": [
       "     hotel_type  is_canceled  lead_time  arrival_date_year arrival_date_month  \\\n",
       "0  Resort Hotel            0        342               2015               July   \n",
       "1  Resort Hotel            0        737               2015               July   \n",
       "2  Resort Hotel            0          7               2015               July   \n",
       "3  Resort Hotel            0         13               2015               July   \n",
       "4  Resort Hotel            0         14               2015               July   \n",
       "\n",
       "   arrival_date_week_number  arrival_date_day_of_month  \\\n",
       "0                        27                          1   \n",
       "1                        27                          1   \n",
       "2                        27                          1   \n",
       "3                        27                          1   \n",
       "4                        27                          1   \n",
       "\n",
       "   stays_in_weekend_nights  stays_in_week_nights  adults  ...  deposit_type  \\\n",
       "0                        0                     0       2  ...    No Deposit   \n",
       "1                        0                     0       2  ...    No Deposit   \n",
       "2                        0                     1       1  ...    No Deposit   \n",
       "3                        0                     1       1  ...    No Deposit   \n",
       "4                        0                     2       2  ...    No Deposit   \n",
       "\n",
       "   agent company days_in_waiting_list customer_type   adr  \\\n",
       "0    NaN     NaN                    0     Transient   0.0   \n",
       "1    NaN     NaN                    0     Transient   0.0   \n",
       "2    NaN     NaN                    0     Transient  75.0   \n",
       "3  304.0     NaN                    0     Transient  75.0   \n",
       "4  240.0     NaN                    0     Transient  98.0   \n",
       "\n",
       "   required_car_parking_spaces  total_of_special_requests  reservation_status  \\\n",
       "0                            0                          0           Check-Out   \n",
       "1                            0                          0           Check-Out   \n",
       "2                            0                          0           Check-Out   \n",
       "3                            0                          0           Check-Out   \n",
       "4                            0                          1           Check-Out   \n",
       "\n",
       "  reservation_status_date  \n",
       "0                1/7/2015  \n",
       "1                1/7/2015  \n",
       "2                2/7/2015  \n",
       "3                2/7/2015  \n",
       "4                3/7/2015  \n",
       "\n",
       "[5 rows x 32 columns]"
      ]
     },
     "execution_count": 2,
     "metadata": {},
     "output_type": "execute_result"
    }
   ],
   "source": [
    "df= pd.read_csv(\"Ritz_Jager_Data.csv\")\n",
    "df.head()"
   ]
  },
  {
   "cell_type": "markdown",
   "metadata": {},
   "source": [
    "There are **32 features**. Next, we will do preprocessing data, such as handling outlier and missing value, drop features, etc."
   ]
  },
  {
   "cell_type": "markdown",
   "metadata": {},
   "source": [
    "## A. Preprocessing"
   ]
  },
  {
   "cell_type": "markdown",
   "metadata": {},
   "source": [
    "### Check Data types"
   ]
  },
  {
   "cell_type": "code",
   "execution_count": 3,
   "metadata": {
    "scrolled": true
   },
   "outputs": [
    {
     "name": "stdout",
     "output_type": "stream",
     "text": [
      "<class 'pandas.core.frame.DataFrame'>\n",
      "RangeIndex: 119390 entries, 0 to 119389\n",
      "Data columns (total 32 columns):\n",
      " #   Column                          Non-Null Count   Dtype  \n",
      "---  ------                          --------------   -----  \n",
      " 0   hotel_type                      119390 non-null  object \n",
      " 1   is_canceled                     119390 non-null  int64  \n",
      " 2   lead_time                       119390 non-null  int64  \n",
      " 3   arrival_date_year               119390 non-null  int64  \n",
      " 4   arrival_date_month              119390 non-null  object \n",
      " 5   arrival_date_week_number        119390 non-null  int64  \n",
      " 6   arrival_date_day_of_month       119390 non-null  int64  \n",
      " 7   stays_in_weekend_nights         119390 non-null  int64  \n",
      " 8   stays_in_week_nights            119390 non-null  int64  \n",
      " 9   adults                          119390 non-null  int64  \n",
      " 10  children                        119386 non-null  float64\n",
      " 11  babies                          119390 non-null  int64  \n",
      " 12  meal_type                       119390 non-null  object \n",
      " 13  country_origin                  118902 non-null  object \n",
      " 14  market_segment                  119390 non-null  object \n",
      " 15  distribution_channel            119390 non-null  object \n",
      " 16  is_repeated_guest               119390 non-null  int64  \n",
      " 17  previous_cancellations          119390 non-null  int64  \n",
      " 18  previous_bookings_not_canceled  119390 non-null  int64  \n",
      " 19  reserved_room_type              119390 non-null  object \n",
      " 20  assigned_room_type              119390 non-null  object \n",
      " 21  booking_changes                 119390 non-null  int64  \n",
      " 22  deposit_type                    119390 non-null  object \n",
      " 23  agent                           103050 non-null  float64\n",
      " 24  company                         6797 non-null    float64\n",
      " 25  days_in_waiting_list            119390 non-null  int64  \n",
      " 26  customer_type                   119390 non-null  object \n",
      " 27  adr                             119390 non-null  float64\n",
      " 28  required_car_parking_spaces     119390 non-null  int64  \n",
      " 29  total_of_special_requests       119390 non-null  int64  \n",
      " 30  reservation_status              119390 non-null  object \n",
      " 31  reservation_status_date         119390 non-null  object \n",
      "dtypes: float64(4), int64(16), object(12)\n",
      "memory usage: 29.1+ MB\n"
     ]
    }
   ],
   "source": [
    "df.info()"
   ]
  },
  {
   "cell_type": "markdown",
   "metadata": {},
   "source": [
    "From here, we can see, the data contains 18 numeric features and 14 categorical features. For the description of features, you can see the **\"data_dictionary_Ritz_Jager.xlsx\"** below:"
   ]
  },
  {
   "cell_type": "code",
   "execution_count": 4,
   "metadata": {
    "scrolled": true
   },
   "outputs": [
    {
     "data": {
      "text/html": [
       "<div>\n",
       "<style scoped>\n",
       "    .dataframe tbody tr th:only-of-type {\n",
       "        vertical-align: middle;\n",
       "    }\n",
       "\n",
       "    .dataframe tbody tr th {\n",
       "        vertical-align: top;\n",
       "    }\n",
       "\n",
       "    .dataframe thead th {\n",
       "        text-align: right;\n",
       "    }\n",
       "</style>\n",
       "<table border=\"1\" class=\"dataframe\">\n",
       "  <thead>\n",
       "    <tr style=\"text-align: right;\">\n",
       "      <th></th>\n",
       "      <th>Column Name</th>\n",
       "      <th>Definition</th>\n",
       "    </tr>\n",
       "  </thead>\n",
       "  <tbody>\n",
       "    <tr>\n",
       "      <th>0</th>\n",
       "      <td>hotel_type</td>\n",
       "      <td>Types of the hotel, Resort Hotel, or City Hotel</td>\n",
       "    </tr>\n",
       "    <tr>\n",
       "      <th>1</th>\n",
       "      <td>is_canceled</td>\n",
       "      <td>The value indicating if the booking was cancelled (1) or not (0)</td>\n",
       "    </tr>\n",
       "    <tr>\n",
       "      <th>2</th>\n",
       "      <td>lead_time</td>\n",
       "      <td>Number of days that elapsed between the entering date of the booking into the PMS and the arrival date</td>\n",
       "    </tr>\n",
       "    <tr>\n",
       "      <th>3</th>\n",
       "      <td>arrival_date_year</td>\n",
       "      <td>Year of arrival date</td>\n",
       "    </tr>\n",
       "    <tr>\n",
       "      <th>4</th>\n",
       "      <td>arrival_date_month</td>\n",
       "      <td>The month of arrival date</td>\n",
       "    </tr>\n",
       "    <tr>\n",
       "      <th>5</th>\n",
       "      <td>arrival_date_week_number</td>\n",
       "      <td>Week number of year for arrival date</td>\n",
       "    </tr>\n",
       "    <tr>\n",
       "      <th>6</th>\n",
       "      <td>arrival_date_day_of_month</td>\n",
       "      <td>Day of arrival date</td>\n",
       "    </tr>\n",
       "    <tr>\n",
       "      <th>7</th>\n",
       "      <td>stays_in_weekend_nights</td>\n",
       "      <td>Number of weekend nights (Saturday or Sunday) the guest stayed or booked to stay at the hotel</td>\n",
       "    </tr>\n",
       "    <tr>\n",
       "      <th>8</th>\n",
       "      <td>stays_in_week_nights</td>\n",
       "      <td>Number of weeknights (Monday to Friday) the guest stayed or booked to stay at the hotel</td>\n",
       "    </tr>\n",
       "    <tr>\n",
       "      <th>9</th>\n",
       "      <td>adults</td>\n",
       "      <td>Number of adults</td>\n",
       "    </tr>\n",
       "    <tr>\n",
       "      <th>10</th>\n",
       "      <td>children</td>\n",
       "      <td>Number of children</td>\n",
       "    </tr>\n",
       "    <tr>\n",
       "      <th>11</th>\n",
       "      <td>babies</td>\n",
       "      <td>Number of babies</td>\n",
       "    </tr>\n",
       "    <tr>\n",
       "      <th>12</th>\n",
       "      <td>meal_type</td>\n",
       "      <td>Type of meal booked. Categories are presented in standard hospitality meal packages: Undefined/SC – no meal package; BB – Bed &amp; Breakfast; HB – Half board (breakfast and one other meal – usually dinner); FB – Full board (breakfast, lunch and dinner)</td>\n",
       "    </tr>\n",
       "    <tr>\n",
       "      <th>13</th>\n",
       "      <td>country_origin</td>\n",
       "      <td>Country of origin. Categories are represented in the ISO 3155–3:2013 format</td>\n",
       "    </tr>\n",
       "    <tr>\n",
       "      <th>14</th>\n",
       "      <td>market_segment</td>\n",
       "      <td>Market segment designation. In categories, the term “TA” means “Travel Agents” and “TO” means “Tour Operators”</td>\n",
       "    </tr>\n",
       "    <tr>\n",
       "      <th>15</th>\n",
       "      <td>distribution_channel</td>\n",
       "      <td>Booking distribution channel. The term “TA” means “Travel Agents” and “TO” means “Tour Operators”</td>\n",
       "    </tr>\n",
       "    <tr>\n",
       "      <th>16</th>\n",
       "      <td>is_repeated_guest</td>\n",
       "      <td>The value indicating if the booking name was from a repeated guest (1) or not (0)</td>\n",
       "    </tr>\n",
       "    <tr>\n",
       "      <th>17</th>\n",
       "      <td>previous_cancellations</td>\n",
       "      <td>Number of previous bookings that were cancelled by the customer prior to the current booking</td>\n",
       "    </tr>\n",
       "    <tr>\n",
       "      <th>18</th>\n",
       "      <td>previous_bookings_not_canceled</td>\n",
       "      <td>Number of previous bookings not cancelled by the customer prior to the current booking</td>\n",
       "    </tr>\n",
       "    <tr>\n",
       "      <th>19</th>\n",
       "      <td>reserved_room_type</td>\n",
       "      <td>Code of room type reserved. Code is presented instead of designation for anonymity reasons.</td>\n",
       "    </tr>\n",
       "    <tr>\n",
       "      <th>20</th>\n",
       "      <td>assigned_room_type</td>\n",
       "      <td>Code for the type of room assigned to the booking. Sometimes the assigned room type differs from the reserved room type due to hotel operation reasons (e.g. overbooking) or by customer request. Code is presented instead of designation for anonymity reasons.</td>\n",
       "    </tr>\n",
       "    <tr>\n",
       "      <th>21</th>\n",
       "      <td>booking_changes</td>\n",
       "      <td>Number of changes/amendments made to the booking from the moment the booking was entered on the PMS until the moment of check-in or cancellation</td>\n",
       "    </tr>\n",
       "    <tr>\n",
       "      <th>22</th>\n",
       "      <td>deposit_type</td>\n",
       "      <td>Indication on if the customer made a deposit to guarantee the booking. This variable can assume three categories: No Deposit – no deposit was made; Non Refund – a deposit was made in the value of the total stay cost; Refundable – a deposit was made with a value under the total cost of stay.</td>\n",
       "    </tr>\n",
       "    <tr>\n",
       "      <th>23</th>\n",
       "      <td>agent_ID</td>\n",
       "      <td>The ID of the travel agency that made the booking</td>\n",
       "    </tr>\n",
       "    <tr>\n",
       "      <th>24</th>\n",
       "      <td>company_ID</td>\n",
       "      <td>ID of the company/entity that made the booking or responsible for paying the booking. ID is presented instead of designation for anonymity reasons</td>\n",
       "    </tr>\n",
       "    <tr>\n",
       "      <th>25</th>\n",
       "      <td>days_in_waiting_list</td>\n",
       "      <td>Number of days the booking was in the waiting list before it was confirmed to the customer</td>\n",
       "    </tr>\n",
       "    <tr>\n",
       "      <th>26</th>\n",
       "      <td>customer_type</td>\n",
       "      <td>Type of booking, assuming one of four categories: Contract - when the booking has an allotment or other type of contract associated to it; Group – when the booking is associated to a group; Transient – when the booking is not part of a group or contract, and is not associated to other transient booking; Transient-party – when the booking is transient, but is associated to at least other transient booking</td>\n",
       "    </tr>\n",
       "    <tr>\n",
       "      <th>27</th>\n",
       "      <td>adr</td>\n",
       "      <td>Average Daily Rate as defined by dividing the sum of all lodging transactions by the total number of staying nights</td>\n",
       "    </tr>\n",
       "    <tr>\n",
       "      <th>28</th>\n",
       "      <td>required_car_parking_spaces</td>\n",
       "      <td>Number of car parking spaces required by the customer</td>\n",
       "    </tr>\n",
       "    <tr>\n",
       "      <th>29</th>\n",
       "      <td>total_of_special_requests</td>\n",
       "      <td>Number of special requests made by the customer (e.g. twin bed or high floor)</td>\n",
       "    </tr>\n",
       "    <tr>\n",
       "      <th>30</th>\n",
       "      <td>reservation_status</td>\n",
       "      <td>Reservation last status, assuming one of three categories: Canceled – booking was canceled by the customer; Check-Out – customer has checked in but already departed; No-Show – customer did not check-in and did inform the hotel of the reason why</td>\n",
       "    </tr>\n",
       "    <tr>\n",
       "      <th>31</th>\n",
       "      <td>reservation_status_date</td>\n",
       "      <td>Date at which the last status was set. This variable can be used in conjunction with the ReservationStatus to understand when was the booking canceled or when did the customer checked-out of the hotel</td>\n",
       "    </tr>\n",
       "  </tbody>\n",
       "</table>\n",
       "</div>"
      ],
      "text/plain": [
       "                       Column Name  \\\n",
       "0   hotel_type                       \n",
       "1   is_canceled                      \n",
       "2   lead_time                        \n",
       "3   arrival_date_year                \n",
       "4   arrival_date_month               \n",
       "5   arrival_date_week_number         \n",
       "6   arrival_date_day_of_month        \n",
       "7   stays_in_weekend_nights          \n",
       "8   stays_in_week_nights             \n",
       "9   adults                           \n",
       "10  children                         \n",
       "11  babies                           \n",
       "12  meal_type                        \n",
       "13  country_origin                   \n",
       "14  market_segment                   \n",
       "15  distribution_channel             \n",
       "16  is_repeated_guest                \n",
       "17  previous_cancellations           \n",
       "18  previous_bookings_not_canceled   \n",
       "19  reserved_room_type               \n",
       "20  assigned_room_type               \n",
       "21  booking_changes                  \n",
       "22  deposit_type                     \n",
       "23  agent_ID                         \n",
       "24  company_ID                       \n",
       "25  days_in_waiting_list             \n",
       "26  customer_type                    \n",
       "27  adr                              \n",
       "28  required_car_parking_spaces      \n",
       "29  total_of_special_requests        \n",
       "30  reservation_status               \n",
       "31  reservation_status_date          \n",
       "\n",
       "                                                                                                                                                                                                                                                                                                                                                                                                                 Definition  \n",
       "0   Types of the hotel, Resort Hotel, or City Hotel                                                                                                                                                                                                                                                                                                                                                                          \n",
       "1   The value indicating if the booking was cancelled (1) or not (0)                                                                                                                                                                                                                                                                                                                                                         \n",
       "2   Number of days that elapsed between the entering date of the booking into the PMS and the arrival date                                                                                                                                                                                                                                                                                                                   \n",
       "3   Year of arrival date                                                                                                                                                                                                                                                                                                                                                                                                     \n",
       "4   The month of arrival date                                                                                                                                                                                                                                                                                                                                                                                                \n",
       "5   Week number of year for arrival date                                                                                                                                                                                                                                                                                                                                                                                     \n",
       "6   Day of arrival date                                                                                                                                                                                                                                                                                                                                                                                                      \n",
       "7   Number of weekend nights (Saturday or Sunday) the guest stayed or booked to stay at the hotel                                                                                                                                                                                                                                                                                                                            \n",
       "8   Number of weeknights (Monday to Friday) the guest stayed or booked to stay at the hotel                                                                                                                                                                                                                                                                                                                                  \n",
       "9   Number of adults                                                                                                                                                                                                                                                                                                                                                                                                         \n",
       "10  Number of children                                                                                                                                                                                                                                                                                                                                                                                                       \n",
       "11  Number of babies                                                                                                                                                                                                                                                                                                                                                                                                         \n",
       "12  Type of meal booked. Categories are presented in standard hospitality meal packages: Undefined/SC – no meal package; BB – Bed & Breakfast; HB – Half board (breakfast and one other meal – usually dinner); FB – Full board (breakfast, lunch and dinner)                                                                                                                                                                \n",
       "13  Country of origin. Categories are represented in the ISO 3155–3:2013 format                                                                                                                                                                                                                                                                                                                                              \n",
       "14  Market segment designation. In categories, the term “TA” means “Travel Agents” and “TO” means “Tour Operators”                                                                                                                                                                                                                                                                                                           \n",
       "15  Booking distribution channel. The term “TA” means “Travel Agents” and “TO” means “Tour Operators”                                                                                                                                                                                                                                                                                                                        \n",
       "16  The value indicating if the booking name was from a repeated guest (1) or not (0)                                                                                                                                                                                                                                                                                                                                        \n",
       "17  Number of previous bookings that were cancelled by the customer prior to the current booking                                                                                                                                                                                                                                                                                                                             \n",
       "18  Number of previous bookings not cancelled by the customer prior to the current booking                                                                                                                                                                                                                                                                                                                                   \n",
       "19  Code of room type reserved. Code is presented instead of designation for anonymity reasons.                                                                                                                                                                                                                                                                                                                              \n",
       "20  Code for the type of room assigned to the booking. Sometimes the assigned room type differs from the reserved room type due to hotel operation reasons (e.g. overbooking) or by customer request. Code is presented instead of designation for anonymity reasons.                                                                                                                                                        \n",
       "21  Number of changes/amendments made to the booking from the moment the booking was entered on the PMS until the moment of check-in or cancellation                                                                                                                                                                                                                                                                         \n",
       "22  Indication on if the customer made a deposit to guarantee the booking. This variable can assume three categories: No Deposit – no deposit was made; Non Refund – a deposit was made in the value of the total stay cost; Refundable – a deposit was made with a value under the total cost of stay.                                                                                                                      \n",
       "23  The ID of the travel agency that made the booking                                                                                                                                                                                                                                                                                                                                                                        \n",
       "24  ID of the company/entity that made the booking or responsible for paying the booking. ID is presented instead of designation for anonymity reasons                                                                                                                                                                                                                                                                       \n",
       "25  Number of days the booking was in the waiting list before it was confirmed to the customer                                                                                                                                                                                                                                                                                                                               \n",
       "26  Type of booking, assuming one of four categories: Contract - when the booking has an allotment or other type of contract associated to it; Group – when the booking is associated to a group; Transient – when the booking is not part of a group or contract, and is not associated to other transient booking; Transient-party – when the booking is transient, but is associated to at least other transient booking  \n",
       "27  Average Daily Rate as defined by dividing the sum of all lodging transactions by the total number of staying nights                                                                                                                                                                                                                                                                                                      \n",
       "28  Number of car parking spaces required by the customer                                                                                                                                                                                                                                                                                                                                                                    \n",
       "29  Number of special requests made by the customer (e.g. twin bed or high floor)                                                                                                                                                                                                                                                                                                                                            \n",
       "30  Reservation last status, assuming one of three categories: Canceled – booking was canceled by the customer; Check-Out – customer has checked in but already departed; No-Show – customer did not check-in and did inform the hotel of the reason why                                                                                                                                                                     \n",
       "31  Date at which the last status was set. This variable can be used in conjunction with the ReservationStatus to understand when was the booking canceled or when did the customer checked-out of the hotel                                                                                                                                                                                                                 "
      ]
     },
     "execution_count": 4,
     "metadata": {},
     "output_type": "execute_result"
    }
   ],
   "source": [
    "desc=pd.read_excel(\"data_dictionary_Ritz_Jager.xlsx\", index_col=None)\n",
    "pd.set_option('display.max_colwidth', 0)\n",
    "desc.head(32)"
   ]
  },
  {
   "cell_type": "markdown",
   "metadata": {},
   "source": [
    "### Handling Missing Value."
   ]
  },
  {
   "cell_type": "code",
   "execution_count": 5,
   "metadata": {
    "scrolled": true
   },
   "outputs": [
    {
     "name": "stdout",
     "output_type": "stream",
     "text": [
      "Sorted in descending....\n",
      "\n"
     ]
    },
    {
     "data": {
      "text/html": [
       "<div>\n",
       "<style scoped>\n",
       "    .dataframe tbody tr th:only-of-type {\n",
       "        vertical-align: middle;\n",
       "    }\n",
       "\n",
       "    .dataframe tbody tr th {\n",
       "        vertical-align: top;\n",
       "    }\n",
       "\n",
       "    .dataframe thead th {\n",
       "        text-align: right;\n",
       "    }\n",
       "</style>\n",
       "<table border=\"1\" class=\"dataframe\">\n",
       "  <thead>\n",
       "    <tr style=\"text-align: right;\">\n",
       "      <th></th>\n",
       "      <th>0</th>\n",
       "      <th>1</th>\n",
       "    </tr>\n",
       "  </thead>\n",
       "  <tbody>\n",
       "    <tr>\n",
       "      <th>company</th>\n",
       "      <td>112593</td>\n",
       "      <td>94.306893</td>\n",
       "    </tr>\n",
       "    <tr>\n",
       "      <th>agent</th>\n",
       "      <td>16340</td>\n",
       "      <td>13.686238</td>\n",
       "    </tr>\n",
       "    <tr>\n",
       "      <th>country_origin</th>\n",
       "      <td>488</td>\n",
       "      <td>0.408744</td>\n",
       "    </tr>\n",
       "    <tr>\n",
       "      <th>children</th>\n",
       "      <td>4</td>\n",
       "      <td>0.003350</td>\n",
       "    </tr>\n",
       "    <tr>\n",
       "      <th>reserved_room_type</th>\n",
       "      <td>0</td>\n",
       "      <td>0.000000</td>\n",
       "    </tr>\n",
       "  </tbody>\n",
       "</table>\n",
       "</div>"
      ],
      "text/plain": [
       "                         0          1\n",
       "company             112593  94.306893\n",
       "agent               16340   13.686238\n",
       "country_origin      488     0.408744 \n",
       "children            4       0.003350 \n",
       "reserved_room_type  0       0.000000 "
      ]
     },
     "execution_count": 5,
     "metadata": {},
     "output_type": "execute_result"
    }
   ],
   "source": [
    "def Count_Miss(data,head):\n",
    "    miss=data.isnull().sum()\n",
    "    percent_miss=(miss/data.shape[0]*100)\n",
    "    #Create Missing Value table\n",
    "    NaN_Count=pd.concat([miss, percent_miss], axis=1)\n",
    "    print('Sorted in descending....\\n')\n",
    "    a=NaN_Count.sort_values(ascending=False, by=1).head(head)\n",
    "    return a\n",
    "Count_Miss(df,5)"
   ]
  },
  {
   "cell_type": "markdown",
   "metadata": {},
   "source": [
    "From the table above, we can see that:\n",
    "1. **company** column has the highest missing value, we can't do imputation for this feature. So, we will drop it."
   ]
  },
  {
   "cell_type": "code",
   "execution_count": 6,
   "metadata": {},
   "outputs": [
    {
     "name": "stdout",
     "output_type": "stream",
     "text": [
      "Sorted in descending....\n",
      "\n"
     ]
    },
    {
     "data": {
      "text/html": [
       "<div>\n",
       "<style scoped>\n",
       "    .dataframe tbody tr th:only-of-type {\n",
       "        vertical-align: middle;\n",
       "    }\n",
       "\n",
       "    .dataframe tbody tr th {\n",
       "        vertical-align: top;\n",
       "    }\n",
       "\n",
       "    .dataframe thead th {\n",
       "        text-align: right;\n",
       "    }\n",
       "</style>\n",
       "<table border=\"1\" class=\"dataframe\">\n",
       "  <thead>\n",
       "    <tr style=\"text-align: right;\">\n",
       "      <th></th>\n",
       "      <th>0</th>\n",
       "      <th>1</th>\n",
       "    </tr>\n",
       "  </thead>\n",
       "  <tbody>\n",
       "    <tr>\n",
       "      <th>agent</th>\n",
       "      <td>16340</td>\n",
       "      <td>13.686238</td>\n",
       "    </tr>\n",
       "    <tr>\n",
       "      <th>country_origin</th>\n",
       "      <td>488</td>\n",
       "      <td>0.408744</td>\n",
       "    </tr>\n",
       "    <tr>\n",
       "      <th>children</th>\n",
       "      <td>4</td>\n",
       "      <td>0.003350</td>\n",
       "    </tr>\n",
       "    <tr>\n",
       "      <th>hotel_type</th>\n",
       "      <td>0</td>\n",
       "      <td>0.000000</td>\n",
       "    </tr>\n",
       "    <tr>\n",
       "      <th>previous_cancellations</th>\n",
       "      <td>0</td>\n",
       "      <td>0.000000</td>\n",
       "    </tr>\n",
       "  </tbody>\n",
       "</table>\n",
       "</div>"
      ],
      "text/plain": [
       "                            0          1\n",
       "agent                   16340  13.686238\n",
       "country_origin          488    0.408744 \n",
       "children                4      0.003350 \n",
       "hotel_type              0      0.000000 \n",
       "previous_cancellations  0      0.000000 "
      ]
     },
     "execution_count": 6,
     "metadata": {},
     "output_type": "execute_result"
    }
   ],
   "source": [
    "df=df.drop(['company'], axis=1)\n",
    "Count_Miss(df,5)"
   ]
  },
  {
   "cell_type": "markdown",
   "metadata": {},
   "source": [
    "2. Next, **agent** column (Discrete) has 16340 (13.7%) missing value. We will see all values of this feature first. From this result below, we can see that **agent** has 334 unique values. In my opinion, we can still imputate 13.7% missing value of **agent**. I will imputate missing values with mode because **agent** is Discrete type data. The mode of this feature is **9.0**"
   ]
  },
  {
   "cell_type": "code",
   "execution_count": 7,
   "metadata": {},
   "outputs": [
    {
     "data": {
      "text/plain": [
       "337.0    1    \n",
       "367.0    1    \n",
       "197.0    1    \n",
       "433.0    1    \n",
       "213.0    1    \n",
       "        ..    \n",
       "7.0      3539 \n",
       "14.0     3640 \n",
       "1.0      7191 \n",
       "240.0    13922\n",
       "9.0      31961\n",
       "Name: agent, Length: 333, dtype: int64"
      ]
     },
     "execution_count": 7,
     "metadata": {},
     "output_type": "execute_result"
    }
   ],
   "source": [
    "df['agent'].value_counts(ascending=True)"
   ]
  },
  {
   "cell_type": "code",
   "execution_count": 8,
   "metadata": {},
   "outputs": [
    {
     "name": "stdout",
     "output_type": "stream",
     "text": [
      "Sorted in descending....\n",
      "\n"
     ]
    },
    {
     "data": {
      "text/html": [
       "<div>\n",
       "<style scoped>\n",
       "    .dataframe tbody tr th:only-of-type {\n",
       "        vertical-align: middle;\n",
       "    }\n",
       "\n",
       "    .dataframe tbody tr th {\n",
       "        vertical-align: top;\n",
       "    }\n",
       "\n",
       "    .dataframe thead th {\n",
       "        text-align: right;\n",
       "    }\n",
       "</style>\n",
       "<table border=\"1\" class=\"dataframe\">\n",
       "  <thead>\n",
       "    <tr style=\"text-align: right;\">\n",
       "      <th></th>\n",
       "      <th>0</th>\n",
       "      <th>1</th>\n",
       "    </tr>\n",
       "  </thead>\n",
       "  <tbody>\n",
       "    <tr>\n",
       "      <th>country_origin</th>\n",
       "      <td>488</td>\n",
       "      <td>0.408744</td>\n",
       "    </tr>\n",
       "    <tr>\n",
       "      <th>children</th>\n",
       "      <td>4</td>\n",
       "      <td>0.003350</td>\n",
       "    </tr>\n",
       "    <tr>\n",
       "      <th>hotel_type</th>\n",
       "      <td>0</td>\n",
       "      <td>0.000000</td>\n",
       "    </tr>\n",
       "    <tr>\n",
       "      <th>previous_cancellations</th>\n",
       "      <td>0</td>\n",
       "      <td>0.000000</td>\n",
       "    </tr>\n",
       "    <tr>\n",
       "      <th>reservation_status</th>\n",
       "      <td>0</td>\n",
       "      <td>0.000000</td>\n",
       "    </tr>\n",
       "  </tbody>\n",
       "</table>\n",
       "</div>"
      ],
      "text/plain": [
       "                          0         1\n",
       "country_origin          488  0.408744\n",
       "children                4    0.003350\n",
       "hotel_type              0    0.000000\n",
       "previous_cancellations  0    0.000000\n",
       "reservation_status      0    0.000000"
      ]
     },
     "execution_count": 8,
     "metadata": {},
     "output_type": "execute_result"
    }
   ],
   "source": [
    "df['agent']=df['agent'].fillna(9.0)\n",
    "Count_Miss(df,5)"
   ]
  },
  {
   "cell_type": "markdown",
   "metadata": {},
   "source": [
    "3.  Next, **country_origin** has 0.4% (488) missing values. In my opinion, missing value comes because the guest didn't write the country from. So, we can fill that with \"unknown\"."
   ]
  },
  {
   "cell_type": "code",
   "execution_count": 9,
   "metadata": {},
   "outputs": [
    {
     "name": "stdout",
     "output_type": "stream",
     "text": [
      "Sorted in descending....\n",
      "\n"
     ]
    },
    {
     "data": {
      "text/html": [
       "<div>\n",
       "<style scoped>\n",
       "    .dataframe tbody tr th:only-of-type {\n",
       "        vertical-align: middle;\n",
       "    }\n",
       "\n",
       "    .dataframe tbody tr th {\n",
       "        vertical-align: top;\n",
       "    }\n",
       "\n",
       "    .dataframe thead th {\n",
       "        text-align: right;\n",
       "    }\n",
       "</style>\n",
       "<table border=\"1\" class=\"dataframe\">\n",
       "  <thead>\n",
       "    <tr style=\"text-align: right;\">\n",
       "      <th></th>\n",
       "      <th>0</th>\n",
       "      <th>1</th>\n",
       "    </tr>\n",
       "  </thead>\n",
       "  <tbody>\n",
       "    <tr>\n",
       "      <th>children</th>\n",
       "      <td>4</td>\n",
       "      <td>0.00335</td>\n",
       "    </tr>\n",
       "    <tr>\n",
       "      <th>hotel_type</th>\n",
       "      <td>0</td>\n",
       "      <td>0.00000</td>\n",
       "    </tr>\n",
       "    <tr>\n",
       "      <th>is_repeated_guest</th>\n",
       "      <td>0</td>\n",
       "      <td>0.00000</td>\n",
       "    </tr>\n",
       "  </tbody>\n",
       "</table>\n",
       "</div>"
      ],
      "text/plain": [
       "                   0        1\n",
       "children           4  0.00335\n",
       "hotel_type         0  0.00000\n",
       "is_repeated_guest  0  0.00000"
      ]
     },
     "execution_count": 9,
     "metadata": {},
     "output_type": "execute_result"
    }
   ],
   "source": [
    "df['country_origin']=df['country_origin'].fillna('Unknown')\n",
    "Count_Miss(df,3)"
   ]
  },
  {
   "cell_type": "markdown",
   "metadata": {},
   "source": [
    "4. Last is **children**. We will replace the NaN with the mode. The mode of this feature is 0. The reason is same as **agent** case."
   ]
  },
  {
   "cell_type": "code",
   "execution_count": 10,
   "metadata": {
    "scrolled": true
   },
   "outputs": [
    {
     "name": "stdout",
     "output_type": "stream",
     "text": [
      "Sorted in descending....\n",
      "\n"
     ]
    },
    {
     "data": {
      "text/html": [
       "<div>\n",
       "<style scoped>\n",
       "    .dataframe tbody tr th:only-of-type {\n",
       "        vertical-align: middle;\n",
       "    }\n",
       "\n",
       "    .dataframe tbody tr th {\n",
       "        vertical-align: top;\n",
       "    }\n",
       "\n",
       "    .dataframe thead th {\n",
       "        text-align: right;\n",
       "    }\n",
       "</style>\n",
       "<table border=\"1\" class=\"dataframe\">\n",
       "  <thead>\n",
       "    <tr style=\"text-align: right;\">\n",
       "      <th></th>\n",
       "      <th>0</th>\n",
       "      <th>1</th>\n",
       "    </tr>\n",
       "  </thead>\n",
       "  <tbody>\n",
       "    <tr>\n",
       "      <th>hotel_type</th>\n",
       "      <td>0</td>\n",
       "      <td>0.0</td>\n",
       "    </tr>\n",
       "    <tr>\n",
       "      <th>is_repeated_guest</th>\n",
       "      <td>0</td>\n",
       "      <td>0.0</td>\n",
       "    </tr>\n",
       "    <tr>\n",
       "      <th>reservation_status</th>\n",
       "      <td>0</td>\n",
       "      <td>0.0</td>\n",
       "    </tr>\n",
       "    <tr>\n",
       "      <th>total_of_special_requests</th>\n",
       "      <td>0</td>\n",
       "      <td>0.0</td>\n",
       "    </tr>\n",
       "    <tr>\n",
       "      <th>required_car_parking_spaces</th>\n",
       "      <td>0</td>\n",
       "      <td>0.0</td>\n",
       "    </tr>\n",
       "    <tr>\n",
       "      <th>adr</th>\n",
       "      <td>0</td>\n",
       "      <td>0.0</td>\n",
       "    </tr>\n",
       "    <tr>\n",
       "      <th>customer_type</th>\n",
       "      <td>0</td>\n",
       "      <td>0.0</td>\n",
       "    </tr>\n",
       "    <tr>\n",
       "      <th>days_in_waiting_list</th>\n",
       "      <td>0</td>\n",
       "      <td>0.0</td>\n",
       "    </tr>\n",
       "    <tr>\n",
       "      <th>agent</th>\n",
       "      <td>0</td>\n",
       "      <td>0.0</td>\n",
       "    </tr>\n",
       "    <tr>\n",
       "      <th>deposit_type</th>\n",
       "      <td>0</td>\n",
       "      <td>0.0</td>\n",
       "    </tr>\n",
       "    <tr>\n",
       "      <th>booking_changes</th>\n",
       "      <td>0</td>\n",
       "      <td>0.0</td>\n",
       "    </tr>\n",
       "    <tr>\n",
       "      <th>assigned_room_type</th>\n",
       "      <td>0</td>\n",
       "      <td>0.0</td>\n",
       "    </tr>\n",
       "    <tr>\n",
       "      <th>reserved_room_type</th>\n",
       "      <td>0</td>\n",
       "      <td>0.0</td>\n",
       "    </tr>\n",
       "    <tr>\n",
       "      <th>previous_bookings_not_canceled</th>\n",
       "      <td>0</td>\n",
       "      <td>0.0</td>\n",
       "    </tr>\n",
       "    <tr>\n",
       "      <th>previous_cancellations</th>\n",
       "      <td>0</td>\n",
       "      <td>0.0</td>\n",
       "    </tr>\n",
       "    <tr>\n",
       "      <th>distribution_channel</th>\n",
       "      <td>0</td>\n",
       "      <td>0.0</td>\n",
       "    </tr>\n",
       "    <tr>\n",
       "      <th>is_canceled</th>\n",
       "      <td>0</td>\n",
       "      <td>0.0</td>\n",
       "    </tr>\n",
       "    <tr>\n",
       "      <th>market_segment</th>\n",
       "      <td>0</td>\n",
       "      <td>0.0</td>\n",
       "    </tr>\n",
       "    <tr>\n",
       "      <th>country_origin</th>\n",
       "      <td>0</td>\n",
       "      <td>0.0</td>\n",
       "    </tr>\n",
       "    <tr>\n",
       "      <th>meal_type</th>\n",
       "      <td>0</td>\n",
       "      <td>0.0</td>\n",
       "    </tr>\n",
       "    <tr>\n",
       "      <th>babies</th>\n",
       "      <td>0</td>\n",
       "      <td>0.0</td>\n",
       "    </tr>\n",
       "    <tr>\n",
       "      <th>children</th>\n",
       "      <td>0</td>\n",
       "      <td>0.0</td>\n",
       "    </tr>\n",
       "    <tr>\n",
       "      <th>adults</th>\n",
       "      <td>0</td>\n",
       "      <td>0.0</td>\n",
       "    </tr>\n",
       "    <tr>\n",
       "      <th>stays_in_week_nights</th>\n",
       "      <td>0</td>\n",
       "      <td>0.0</td>\n",
       "    </tr>\n",
       "    <tr>\n",
       "      <th>stays_in_weekend_nights</th>\n",
       "      <td>0</td>\n",
       "      <td>0.0</td>\n",
       "    </tr>\n",
       "    <tr>\n",
       "      <th>arrival_date_day_of_month</th>\n",
       "      <td>0</td>\n",
       "      <td>0.0</td>\n",
       "    </tr>\n",
       "    <tr>\n",
       "      <th>arrival_date_week_number</th>\n",
       "      <td>0</td>\n",
       "      <td>0.0</td>\n",
       "    </tr>\n",
       "    <tr>\n",
       "      <th>arrival_date_month</th>\n",
       "      <td>0</td>\n",
       "      <td>0.0</td>\n",
       "    </tr>\n",
       "    <tr>\n",
       "      <th>arrival_date_year</th>\n",
       "      <td>0</td>\n",
       "      <td>0.0</td>\n",
       "    </tr>\n",
       "    <tr>\n",
       "      <th>lead_time</th>\n",
       "      <td>0</td>\n",
       "      <td>0.0</td>\n",
       "    </tr>\n",
       "    <tr>\n",
       "      <th>reservation_status_date</th>\n",
       "      <td>0</td>\n",
       "      <td>0.0</td>\n",
       "    </tr>\n",
       "  </tbody>\n",
       "</table>\n",
       "</div>"
      ],
      "text/plain": [
       "                                0    1\n",
       "hotel_type                      0  0.0\n",
       "is_repeated_guest               0  0.0\n",
       "reservation_status              0  0.0\n",
       "total_of_special_requests       0  0.0\n",
       "required_car_parking_spaces     0  0.0\n",
       "adr                             0  0.0\n",
       "customer_type                   0  0.0\n",
       "days_in_waiting_list            0  0.0\n",
       "agent                           0  0.0\n",
       "deposit_type                    0  0.0\n",
       "booking_changes                 0  0.0\n",
       "assigned_room_type              0  0.0\n",
       "reserved_room_type              0  0.0\n",
       "previous_bookings_not_canceled  0  0.0\n",
       "previous_cancellations          0  0.0\n",
       "distribution_channel            0  0.0\n",
       "is_canceled                     0  0.0\n",
       "market_segment                  0  0.0\n",
       "country_origin                  0  0.0\n",
       "meal_type                       0  0.0\n",
       "babies                          0  0.0\n",
       "children                        0  0.0\n",
       "adults                          0  0.0\n",
       "stays_in_week_nights            0  0.0\n",
       "stays_in_weekend_nights         0  0.0\n",
       "arrival_date_day_of_month       0  0.0\n",
       "arrival_date_week_number        0  0.0\n",
       "arrival_date_month              0  0.0\n",
       "arrival_date_year               0  0.0\n",
       "lead_time                       0  0.0\n",
       "reservation_status_date         0  0.0"
      ]
     },
     "execution_count": 10,
     "metadata": {},
     "output_type": "execute_result"
    }
   ],
   "source": [
    "df['children'].value_counts()\n",
    "df['children']=df['children'].fillna(0)\n",
    "Count_Miss(df,None)"
   ]
  },
  {
   "cell_type": "markdown",
   "metadata": {},
   "source": [
    "There is no more missing value."
   ]
  },
  {
   "cell_type": "markdown",
   "metadata": {},
   "source": [
    "# Explanatory Data Analysis (EDA)\n",
    "## Q1: Where do the guests come from?"
   ]
  },
  {
   "cell_type": "markdown",
   "metadata": {},
   "source": [
    "We just only analyze guests that **didn't cancel the booking** and **not repeated guest**. This is the answer:\n"
   ]
  },
  {
   "cell_type": "markdown",
   "metadata": {},
   "source": [
    "This is bar chart of customers who cancel or not the booking"
   ]
  },
  {
   "cell_type": "code",
   "execution_count": 11,
   "metadata": {},
   "outputs": [
    {
     "data": {
      "image/png": "[encoded data removed]",
      "text/plain": [
       "<Figure size 1152x576 with 1 Axes>"
      ]
     },
     "metadata": {
      "needs_background": "light"
     },
     "output_type": "display_data"
    }
   ],
   "source": [
    "fig,ax = plt.subplots()\n",
    "fig.set_size_inches(16, 8)\n",
    "ax = sns.countplot(df.is_canceled)\n",
    "plt.title(\"Cancel and Not Cancel\\n\",fontdict={'fontsize':20})\n",
    "plt.ylabel(\"Numbers of Bookings\",fontdict={'fontsize':15})\n",
    "plt.xlabel(\"Cancelation\",fontdict={'fontsize':15})\n",
    "for p in ax.patches:\n",
    "    x = p.get_bbox().get_points()[:,0]\n",
    "    y = p.get_bbox().get_points()[1,1]\n",
    "    ax.annotate('{} ({:.2f})%'.format(int(y),y*100/len(df)),(x.mean(),y), ha=\"center\", va=\"bottom\");"
   ]
  },
  {
   "cell_type": "markdown",
   "metadata": {},
   "source": [
    "#### Creating new dataframe with condition above."
   ]
  },
  {
   "cell_type": "code",
   "execution_count": 12,
   "metadata": {},
   "outputs": [
    {
     "name": "stdout",
     "output_type": "stream",
     "text": [
      "(row, column) of the data \n",
      "Before :  (119390, 31) \n",
      "After :  (71908, 31)\n"
     ]
    }
   ],
   "source": [
    "#Remove guest who cancel the booking\n",
    "NoCancel= df[df['is_canceled']==0]\n",
    "#Remove repeated guest\n",
    "NoCancel= NoCancel[NoCancel['is_repeated_guest']==0]\n",
    "print('(row, column) of the data \\nBefore : ', df.shape, '\\nAfter : ', NoCancel.shape)"
   ]
  },
  {
   "cell_type": "markdown",
   "metadata": {},
   "source": [
    "Country of the data is in index form. So, we need change it to name country with modul **pycountry**"
   ]
  },
  {
   "cell_type": "code",
   "execution_count": 13,
   "metadata": {},
   "outputs": [],
   "source": [
    "list_country = [i.alpha_3 for i in list(pycountry.countries)]\n",
    "def convert_country(NoCancel):\n",
    "    try:\n",
    "        return pycountry.countries.get(alpha_3=NoCancel['country_origin']).name\n",
    "    except:\n",
    "        return \"Not Recognize\"\n",
    "    \n",
    "NoCancel[\"country_origin\"] = NoCancel.apply(convert_country,axis=1)"
   ]
  },
  {
   "cell_type": "code",
   "execution_count": 14,
   "metadata": {},
   "outputs": [
    {
     "name": "stdout",
     "output_type": "stream",
     "text": [
      "Total Country in this data set is 164\n"
     ]
    }
   ],
   "source": [
    "#Total Country\n",
    "print('Total Country in this data set is {}'\n",
    "      .format(len(NoCancel[\"country_origin\"].unique())))"
   ]
  },
  {
   "cell_type": "markdown",
   "metadata": {},
   "source": [
    "#### This is the list of all country where all guests from."
   ]
  },
  {
   "cell_type": "code",
   "execution_count": 15,
   "metadata": {},
   "outputs": [
    {
     "data": {
      "text/html": [
       "<div>\n",
       "<style scoped>\n",
       "    .dataframe tbody tr th:only-of-type {\n",
       "        vertical-align: middle;\n",
       "    }\n",
       "\n",
       "    .dataframe tbody tr th {\n",
       "        vertical-align: top;\n",
       "    }\n",
       "\n",
       "    .dataframe thead th {\n",
       "        text-align: right;\n",
       "    }\n",
       "</style>\n",
       "<table border=\"1\" class=\"dataframe\">\n",
       "  <thead>\n",
       "    <tr style=\"text-align: right;\">\n",
       "      <th></th>\n",
       "      <th>Country From</th>\n",
       "      <th>Total Guests</th>\n",
       "      <th>Percentage</th>\n",
       "    </tr>\n",
       "  </thead>\n",
       "  <tbody>\n",
       "    <tr>\n",
       "      <th>0</th>\n",
       "      <td>Portugal</td>\n",
       "      <td>18347</td>\n",
       "      <td>26.0</td>\n",
       "    </tr>\n",
       "    <tr>\n",
       "      <th>1</th>\n",
       "      <td>United Kingdom</td>\n",
       "      <td>9570</td>\n",
       "      <td>13.0</td>\n",
       "    </tr>\n",
       "    <tr>\n",
       "      <th>2</th>\n",
       "      <td>France</td>\n",
       "      <td>8409</td>\n",
       "      <td>12.0</td>\n",
       "    </tr>\n",
       "    <tr>\n",
       "      <th>3</th>\n",
       "      <td>Spain</td>\n",
       "      <td>6307</td>\n",
       "      <td>9.0</td>\n",
       "    </tr>\n",
       "    <tr>\n",
       "      <th>4</th>\n",
       "      <td>Germany</td>\n",
       "      <td>6044</td>\n",
       "      <td>8.0</td>\n",
       "    </tr>\n",
       "    <tr>\n",
       "      <th>5</th>\n",
       "      <td>Ireland</td>\n",
       "      <td>2514</td>\n",
       "      <td>3.0</td>\n",
       "    </tr>\n",
       "    <tr>\n",
       "      <th>6</th>\n",
       "      <td>Italy</td>\n",
       "      <td>2395</td>\n",
       "      <td>3.0</td>\n",
       "    </tr>\n",
       "    <tr>\n",
       "      <th>7</th>\n",
       "      <td>Belgium</td>\n",
       "      <td>1852</td>\n",
       "      <td>3.0</td>\n",
       "    </tr>\n",
       "    <tr>\n",
       "      <th>8</th>\n",
       "      <td>Netherlands</td>\n",
       "      <td>1697</td>\n",
       "      <td>2.0</td>\n",
       "    </tr>\n",
       "    <tr>\n",
       "      <th>9</th>\n",
       "      <td>United States</td>\n",
       "      <td>1578</td>\n",
       "      <td>2.0</td>\n",
       "    </tr>\n",
       "    <tr>\n",
       "      <th>10</th>\n",
       "      <td>Not Recognize</td>\n",
       "      <td>1439</td>\n",
       "      <td>2.0</td>\n",
       "    </tr>\n",
       "    <tr>\n",
       "      <th>11</th>\n",
       "      <td>Brazil</td>\n",
       "      <td>1380</td>\n",
       "      <td>2.0</td>\n",
       "    </tr>\n",
       "    <tr>\n",
       "      <th>12</th>\n",
       "      <td>Switzerland</td>\n",
       "      <td>1299</td>\n",
       "      <td>2.0</td>\n",
       "    </tr>\n",
       "    <tr>\n",
       "      <th>13</th>\n",
       "      <td>Austria</td>\n",
       "      <td>1023</td>\n",
       "      <td>1.0</td>\n",
       "    </tr>\n",
       "    <tr>\n",
       "      <th>14</th>\n",
       "      <td>Sweden</td>\n",
       "      <td>789</td>\n",
       "      <td>1.0</td>\n",
       "    </tr>\n",
       "    <tr>\n",
       "      <th>15</th>\n",
       "      <td>Poland</td>\n",
       "      <td>699</td>\n",
       "      <td>1.0</td>\n",
       "    </tr>\n",
       "    <tr>\n",
       "      <th>16</th>\n",
       "      <td>China</td>\n",
       "      <td>529</td>\n",
       "      <td>1.0</td>\n",
       "    </tr>\n",
       "    <tr>\n",
       "      <th>17</th>\n",
       "      <td>Israel</td>\n",
       "      <td>497</td>\n",
       "      <td>1.0</td>\n",
       "    </tr>\n",
       "    <tr>\n",
       "      <th>18</th>\n",
       "      <td>Norway</td>\n",
       "      <td>424</td>\n",
       "      <td>1.0</td>\n",
       "    </tr>\n",
       "    <tr>\n",
       "      <th>19</th>\n",
       "      <td>Russian Federation</td>\n",
       "      <td>390</td>\n",
       "      <td>1.0</td>\n",
       "    </tr>\n",
       "    <tr>\n",
       "      <th>20</th>\n",
       "      <td>Finland</td>\n",
       "      <td>376</td>\n",
       "      <td>1.0</td>\n",
       "    </tr>\n",
       "    <tr>\n",
       "      <th>21</th>\n",
       "      <td>Romania</td>\n",
       "      <td>366</td>\n",
       "      <td>1.0</td>\n",
       "    </tr>\n",
       "    <tr>\n",
       "      <th>22</th>\n",
       "      <td>Denmark</td>\n",
       "      <td>325</td>\n",
       "      <td>0.0</td>\n",
       "    </tr>\n",
       "    <tr>\n",
       "      <th>23</th>\n",
       "      <td>Australia</td>\n",
       "      <td>317</td>\n",
       "      <td>0.0</td>\n",
       "    </tr>\n",
       "    <tr>\n",
       "      <th>24</th>\n",
       "      <td>Luxembourg</td>\n",
       "      <td>174</td>\n",
       "      <td>0.0</td>\n",
       "    </tr>\n",
       "    <tr>\n",
       "      <th>25</th>\n",
       "      <td>Japan</td>\n",
       "      <td>166</td>\n",
       "      <td>0.0</td>\n",
       "    </tr>\n",
       "    <tr>\n",
       "      <th>26</th>\n",
       "      <td>Argentina</td>\n",
       "      <td>159</td>\n",
       "      <td>0.0</td>\n",
       "    </tr>\n",
       "    <tr>\n",
       "      <th>27</th>\n",
       "      <td>Hungary</td>\n",
       "      <td>153</td>\n",
       "      <td>0.0</td>\n",
       "    </tr>\n",
       "    <tr>\n",
       "      <th>28</th>\n",
       "      <td>Morocco</td>\n",
       "      <td>148</td>\n",
       "      <td>0.0</td>\n",
       "    </tr>\n",
       "    <tr>\n",
       "      <th>29</th>\n",
       "      <td>Angola</td>\n",
       "      <td>141</td>\n",
       "      <td>0.0</td>\n",
       "    </tr>\n",
       "    <tr>\n",
       "      <th>30</th>\n",
       "      <td>Turkey</td>\n",
       "      <td>137</td>\n",
       "      <td>0.0</td>\n",
       "    </tr>\n",
       "    <tr>\n",
       "      <th>31</th>\n",
       "      <td>Czechia</td>\n",
       "      <td>134</td>\n",
       "      <td>0.0</td>\n",
       "    </tr>\n",
       "    <tr>\n",
       "      <th>32</th>\n",
       "      <td>India</td>\n",
       "      <td>117</td>\n",
       "      <td>0.0</td>\n",
       "    </tr>\n",
       "    <tr>\n",
       "      <th>33</th>\n",
       "      <td>Serbia</td>\n",
       "      <td>98</td>\n",
       "      <td>0.0</td>\n",
       "    </tr>\n",
       "    <tr>\n",
       "      <th>34</th>\n",
       "      <td>Greece</td>\n",
       "      <td>89</td>\n",
       "      <td>0.0</td>\n",
       "    </tr>\n",
       "    <tr>\n",
       "      <th>35</th>\n",
       "      <td>Algeria</td>\n",
       "      <td>81</td>\n",
       "      <td>0.0</td>\n",
       "    </tr>\n",
       "    <tr>\n",
       "      <th>36</th>\n",
       "      <td>Korea, Republic of</td>\n",
       "      <td>78</td>\n",
       "      <td>0.0</td>\n",
       "    </tr>\n",
       "    <tr>\n",
       "      <th>37</th>\n",
       "      <td>Mexico</td>\n",
       "      <td>75</td>\n",
       "      <td>0.0</td>\n",
       "    </tr>\n",
       "    <tr>\n",
       "      <th>38</th>\n",
       "      <td>Croatia</td>\n",
       "      <td>75</td>\n",
       "      <td>0.0</td>\n",
       "    </tr>\n",
       "    <tr>\n",
       "      <th>39</th>\n",
       "      <td>Lithuania</td>\n",
       "      <td>74</td>\n",
       "      <td>0.0</td>\n",
       "    </tr>\n",
       "    <tr>\n",
       "      <th>40</th>\n",
       "      <td>New Zealand</td>\n",
       "      <td>68</td>\n",
       "      <td>0.0</td>\n",
       "    </tr>\n",
       "    <tr>\n",
       "      <th>41</th>\n",
       "      <td>Estonia</td>\n",
       "      <td>65</td>\n",
       "      <td>0.0</td>\n",
       "    </tr>\n",
       "    <tr>\n",
       "      <th>42</th>\n",
       "      <td>Bulgaria</td>\n",
       "      <td>63</td>\n",
       "      <td>0.0</td>\n",
       "    </tr>\n",
       "    <tr>\n",
       "      <th>43</th>\n",
       "      <td>Iran, Islamic Republic of</td>\n",
       "      <td>60</td>\n",
       "      <td>0.0</td>\n",
       "    </tr>\n",
       "    <tr>\n",
       "      <th>44</th>\n",
       "      <td>Iceland</td>\n",
       "      <td>52</td>\n",
       "      <td>0.0</td>\n",
       "    </tr>\n",
       "    <tr>\n",
       "      <th>45</th>\n",
       "      <td>Chile</td>\n",
       "      <td>49</td>\n",
       "      <td>0.0</td>\n",
       "    </tr>\n",
       "    <tr>\n",
       "      <th>46</th>\n",
       "      <td>Ukraine</td>\n",
       "      <td>48</td>\n",
       "      <td>0.0</td>\n",
       "    </tr>\n",
       "    <tr>\n",
       "      <th>47</th>\n",
       "      <td>South Africa</td>\n",
       "      <td>48</td>\n",
       "      <td>0.0</td>\n",
       "    </tr>\n",
       "    <tr>\n",
       "      <th>48</th>\n",
       "      <td>Colombia</td>\n",
       "      <td>48</td>\n",
       "      <td>0.0</td>\n",
       "    </tr>\n",
       "    <tr>\n",
       "      <th>49</th>\n",
       "      <td>Mozambique</td>\n",
       "      <td>47</td>\n",
       "      <td>0.0</td>\n",
       "    </tr>\n",
       "    <tr>\n",
       "      <th>50</th>\n",
       "      <td>Latvia</td>\n",
       "      <td>46</td>\n",
       "      <td>0.0</td>\n",
       "    </tr>\n",
       "    <tr>\n",
       "      <th>51</th>\n",
       "      <td>Thailand</td>\n",
       "      <td>41</td>\n",
       "      <td>0.0</td>\n",
       "    </tr>\n",
       "    <tr>\n",
       "      <th>52</th>\n",
       "      <td>Slovakia</td>\n",
       "      <td>41</td>\n",
       "      <td>0.0</td>\n",
       "    </tr>\n",
       "    <tr>\n",
       "      <th>53</th>\n",
       "      <td>Slovenia</td>\n",
       "      <td>40</td>\n",
       "      <td>0.0</td>\n",
       "    </tr>\n",
       "    <tr>\n",
       "      <th>54</th>\n",
       "      <td>Cyprus</td>\n",
       "      <td>40</td>\n",
       "      <td>0.0</td>\n",
       "    </tr>\n",
       "    <tr>\n",
       "      <th>55</th>\n",
       "      <td>Taiwan, Province of China</td>\n",
       "      <td>37</td>\n",
       "      <td>0.0</td>\n",
       "    </tr>\n",
       "    <tr>\n",
       "      <th>56</th>\n",
       "      <td>Malaysia</td>\n",
       "      <td>25</td>\n",
       "      <td>0.0</td>\n",
       "    </tr>\n",
       "    <tr>\n",
       "      <th>57</th>\n",
       "      <td>Uruguay</td>\n",
       "      <td>23</td>\n",
       "      <td>0.0</td>\n",
       "    </tr>\n",
       "    <tr>\n",
       "      <th>58</th>\n",
       "      <td>Singapore</td>\n",
       "      <td>23</td>\n",
       "      <td>0.0</td>\n",
       "    </tr>\n",
       "    <tr>\n",
       "      <th>59</th>\n",
       "      <td>Peru</td>\n",
       "      <td>22</td>\n",
       "      <td>0.0</td>\n",
       "    </tr>\n",
       "    <tr>\n",
       "      <th>60</th>\n",
       "      <td>Lebanon</td>\n",
       "      <td>21</td>\n",
       "      <td>0.0</td>\n",
       "    </tr>\n",
       "    <tr>\n",
       "      <th>61</th>\n",
       "      <td>Egypt</td>\n",
       "      <td>21</td>\n",
       "      <td>0.0</td>\n",
       "    </tr>\n",
       "    <tr>\n",
       "      <th>62</th>\n",
       "      <td>Ecuador</td>\n",
       "      <td>19</td>\n",
       "      <td>0.0</td>\n",
       "    </tr>\n",
       "    <tr>\n",
       "      <th>63</th>\n",
       "      <td>Tunisia</td>\n",
       "      <td>19</td>\n",
       "      <td>0.0</td>\n",
       "    </tr>\n",
       "    <tr>\n",
       "      <th>64</th>\n",
       "      <td>Jordan</td>\n",
       "      <td>18</td>\n",
       "      <td>0.0</td>\n",
       "    </tr>\n",
       "    <tr>\n",
       "      <th>65</th>\n",
       "      <td>Costa Rica</td>\n",
       "      <td>18</td>\n",
       "      <td>0.0</td>\n",
       "    </tr>\n",
       "    <tr>\n",
       "      <th>66</th>\n",
       "      <td>Belarus</td>\n",
       "      <td>17</td>\n",
       "      <td>0.0</td>\n",
       "    </tr>\n",
       "    <tr>\n",
       "      <th>67</th>\n",
       "      <td>Philippines</td>\n",
       "      <td>15</td>\n",
       "      <td>0.0</td>\n",
       "    </tr>\n",
       "    <tr>\n",
       "      <th>68</th>\n",
       "      <td>Saudi Arabia</td>\n",
       "      <td>15</td>\n",
       "      <td>0.0</td>\n",
       "    </tr>\n",
       "    <tr>\n",
       "      <th>69</th>\n",
       "      <td>Oman</td>\n",
       "      <td>14</td>\n",
       "      <td>0.0</td>\n",
       "    </tr>\n",
       "    <tr>\n",
       "      <th>70</th>\n",
       "      <td>Iraq</td>\n",
       "      <td>14</td>\n",
       "      <td>0.0</td>\n",
       "    </tr>\n",
       "    <tr>\n",
       "      <th>71</th>\n",
       "      <td>Kazakhstan</td>\n",
       "      <td>14</td>\n",
       "      <td>0.0</td>\n",
       "    </tr>\n",
       "    <tr>\n",
       "      <th>72</th>\n",
       "      <td>Venezuela, Bolivarian Republic of</td>\n",
       "      <td>14</td>\n",
       "      <td>0.0</td>\n",
       "    </tr>\n",
       "    <tr>\n",
       "      <th>73</th>\n",
       "      <td>Malta</td>\n",
       "      <td>13</td>\n",
       "      <td>0.0</td>\n",
       "    </tr>\n",
       "    <tr>\n",
       "      <th>74</th>\n",
       "      <td>Nigeria</td>\n",
       "      <td>12</td>\n",
       "      <td>0.0</td>\n",
       "    </tr>\n",
       "    <tr>\n",
       "      <th>75</th>\n",
       "      <td>Cabo Verde</td>\n",
       "      <td>12</td>\n",
       "      <td>0.0</td>\n",
       "    </tr>\n",
       "    <tr>\n",
       "      <th>76</th>\n",
       "      <td>Indonesia</td>\n",
       "      <td>11</td>\n",
       "      <td>0.0</td>\n",
       "    </tr>\n",
       "    <tr>\n",
       "      <th>77</th>\n",
       "      <td>Bolivia, Plurinational State of</td>\n",
       "      <td>10</td>\n",
       "      <td>0.0</td>\n",
       "    </tr>\n",
       "    <tr>\n",
       "      <th>78</th>\n",
       "      <td>Kuwait</td>\n",
       "      <td>10</td>\n",
       "      <td>0.0</td>\n",
       "    </tr>\n",
       "    <tr>\n",
       "      <th>79</th>\n",
       "      <td>Cameroon</td>\n",
       "      <td>10</td>\n",
       "      <td>0.0</td>\n",
       "    </tr>\n",
       "    <tr>\n",
       "      <th>80</th>\n",
       "      <td>Albania</td>\n",
       "      <td>10</td>\n",
       "      <td>0.0</td>\n",
       "    </tr>\n",
       "    <tr>\n",
       "      <th>81</th>\n",
       "      <td>Bosnia and Herzegovina</td>\n",
       "      <td>10</td>\n",
       "      <td>0.0</td>\n",
       "    </tr>\n",
       "    <tr>\n",
       "      <th>82</th>\n",
       "      <td>Panama</td>\n",
       "      <td>9</td>\n",
       "      <td>0.0</td>\n",
       "    </tr>\n",
       "    <tr>\n",
       "      <th>83</th>\n",
       "      <td>Guinea-Bissau</td>\n",
       "      <td>8</td>\n",
       "      <td>0.0</td>\n",
       "    </tr>\n",
       "    <tr>\n",
       "      <th>84</th>\n",
       "      <td>North Macedonia</td>\n",
       "      <td>8</td>\n",
       "      <td>0.0</td>\n",
       "    </tr>\n",
       "    <tr>\n",
       "      <th>85</th>\n",
       "      <td>Azerbaijan</td>\n",
       "      <td>8</td>\n",
       "      <td>0.0</td>\n",
       "    </tr>\n",
       "    <tr>\n",
       "      <th>86</th>\n",
       "      <td>Cuba</td>\n",
       "      <td>8</td>\n",
       "      <td>0.0</td>\n",
       "    </tr>\n",
       "    <tr>\n",
       "      <th>87</th>\n",
       "      <td>Libya</td>\n",
       "      <td>8</td>\n",
       "      <td>0.0</td>\n",
       "    </tr>\n",
       "    <tr>\n",
       "      <th>88</th>\n",
       "      <td>Gibraltar</td>\n",
       "      <td>7</td>\n",
       "      <td>0.0</td>\n",
       "    </tr>\n",
       "    <tr>\n",
       "      <th>89</th>\n",
       "      <td>United Arab Emirates</td>\n",
       "      <td>7</td>\n",
       "      <td>0.0</td>\n",
       "    </tr>\n",
       "    <tr>\n",
       "      <th>90</th>\n",
       "      <td>Georgia</td>\n",
       "      <td>7</td>\n",
       "      <td>0.0</td>\n",
       "    </tr>\n",
       "    <tr>\n",
       "      <th>91</th>\n",
       "      <td>Sri Lanka</td>\n",
       "      <td>7</td>\n",
       "      <td>0.0</td>\n",
       "    </tr>\n",
       "    <tr>\n",
       "      <th>92</th>\n",
       "      <td>Jamaica</td>\n",
       "      <td>6</td>\n",
       "      <td>0.0</td>\n",
       "    </tr>\n",
       "    <tr>\n",
       "      <th>93</th>\n",
       "      <td>Mauritius</td>\n",
       "      <td>6</td>\n",
       "      <td>0.0</td>\n",
       "    </tr>\n",
       "    <tr>\n",
       "      <th>94</th>\n",
       "      <td>Dominican Republic</td>\n",
       "      <td>6</td>\n",
       "      <td>0.0</td>\n",
       "    </tr>\n",
       "    <tr>\n",
       "      <th>95</th>\n",
       "      <td>Viet Nam</td>\n",
       "      <td>6</td>\n",
       "      <td>0.0</td>\n",
       "    </tr>\n",
       "    <tr>\n",
       "      <th>96</th>\n",
       "      <td>Armenia</td>\n",
       "      <td>6</td>\n",
       "      <td>0.0</td>\n",
       "    </tr>\n",
       "    <tr>\n",
       "      <th>97</th>\n",
       "      <td>Central African Republic</td>\n",
       "      <td>5</td>\n",
       "      <td>0.0</td>\n",
       "    </tr>\n",
       "    <tr>\n",
       "      <th>98</th>\n",
       "      <td>Pakistan</td>\n",
       "      <td>5</td>\n",
       "      <td>0.0</td>\n",
       "    </tr>\n",
       "    <tr>\n",
       "      <th>99</th>\n",
       "      <td>Suriname</td>\n",
       "      <td>5</td>\n",
       "      <td>0.0</td>\n",
       "    </tr>\n",
       "    <tr>\n",
       "      <th>100</th>\n",
       "      <td>Qatar</td>\n",
       "      <td>4</td>\n",
       "      <td>0.0</td>\n",
       "    </tr>\n",
       "    <tr>\n",
       "      <th>101</th>\n",
       "      <td>Guatemala</td>\n",
       "      <td>4</td>\n",
       "      <td>0.0</td>\n",
       "    </tr>\n",
       "    <tr>\n",
       "      <th>102</th>\n",
       "      <td>Côte d'Ivoire</td>\n",
       "      <td>4</td>\n",
       "      <td>0.0</td>\n",
       "    </tr>\n",
       "    <tr>\n",
       "      <th>103</th>\n",
       "      <td>Paraguay</td>\n",
       "      <td>4</td>\n",
       "      <td>0.0</td>\n",
       "    </tr>\n",
       "    <tr>\n",
       "      <th>104</th>\n",
       "      <td>Barbados</td>\n",
       "      <td>4</td>\n",
       "      <td>0.0</td>\n",
       "    </tr>\n",
       "    <tr>\n",
       "      <th>105</th>\n",
       "      <td>Kenya</td>\n",
       "      <td>4</td>\n",
       "      <td>0.0</td>\n",
       "    </tr>\n",
       "    <tr>\n",
       "      <th>106</th>\n",
       "      <td>Puerto Rico</td>\n",
       "      <td>4</td>\n",
       "      <td>0.0</td>\n",
       "    </tr>\n",
       "    <tr>\n",
       "      <th>107</th>\n",
       "      <td>Bangladesh</td>\n",
       "      <td>3</td>\n",
       "      <td>0.0</td>\n",
       "    </tr>\n",
       "    <tr>\n",
       "      <th>108</th>\n",
       "      <td>Syrian Arab Republic</td>\n",
       "      <td>3</td>\n",
       "      <td>0.0</td>\n",
       "    </tr>\n",
       "    <tr>\n",
       "      <th>109</th>\n",
       "      <td>Monaco</td>\n",
       "      <td>3</td>\n",
       "      <td>0.0</td>\n",
       "    </tr>\n",
       "    <tr>\n",
       "      <th>110</th>\n",
       "      <td>Maldives</td>\n",
       "      <td>3</td>\n",
       "      <td>0.0</td>\n",
       "    </tr>\n",
       "    <tr>\n",
       "      <th>111</th>\n",
       "      <td>Hong Kong</td>\n",
       "      <td>3</td>\n",
       "      <td>0.0</td>\n",
       "    </tr>\n",
       "    <tr>\n",
       "      <th>112</th>\n",
       "      <td>Montenegro</td>\n",
       "      <td>3</td>\n",
       "      <td>0.0</td>\n",
       "    </tr>\n",
       "    <tr>\n",
       "      <th>113</th>\n",
       "      <td>Senegal</td>\n",
       "      <td>3</td>\n",
       "      <td>0.0</td>\n",
       "    </tr>\n",
       "    <tr>\n",
       "      <th>114</th>\n",
       "      <td>Tanzania, United Republic of</td>\n",
       "      <td>2</td>\n",
       "      <td>0.0</td>\n",
       "    </tr>\n",
       "    <tr>\n",
       "      <th>115</th>\n",
       "      <td>Aruba</td>\n",
       "      <td>2</td>\n",
       "      <td>0.0</td>\n",
       "    </tr>\n",
       "    <tr>\n",
       "      <th>116</th>\n",
       "      <td>El Salvador</td>\n",
       "      <td>2</td>\n",
       "      <td>0.0</td>\n",
       "    </tr>\n",
       "    <tr>\n",
       "      <th>117</th>\n",
       "      <td>Ethiopia</td>\n",
       "      <td>2</td>\n",
       "      <td>0.0</td>\n",
       "    </tr>\n",
       "    <tr>\n",
       "      <th>118</th>\n",
       "      <td>Comoros</td>\n",
       "      <td>2</td>\n",
       "      <td>0.0</td>\n",
       "    </tr>\n",
       "    <tr>\n",
       "      <th>119</th>\n",
       "      <td>Sao Tome and Principe</td>\n",
       "      <td>2</td>\n",
       "      <td>0.0</td>\n",
       "    </tr>\n",
       "    <tr>\n",
       "      <th>120</th>\n",
       "      <td>Malawi</td>\n",
       "      <td>2</td>\n",
       "      <td>0.0</td>\n",
       "    </tr>\n",
       "    <tr>\n",
       "      <th>121</th>\n",
       "      <td>Antarctica</td>\n",
       "      <td>2</td>\n",
       "      <td>0.0</td>\n",
       "    </tr>\n",
       "    <tr>\n",
       "      <th>122</th>\n",
       "      <td>Togo</td>\n",
       "      <td>2</td>\n",
       "      <td>0.0</td>\n",
       "    </tr>\n",
       "    <tr>\n",
       "      <th>123</th>\n",
       "      <td>Andorra</td>\n",
       "      <td>2</td>\n",
       "      <td>0.0</td>\n",
       "    </tr>\n",
       "    <tr>\n",
       "      <th>124</th>\n",
       "      <td>Uzbekistan</td>\n",
       "      <td>2</td>\n",
       "      <td>0.0</td>\n",
       "    </tr>\n",
       "    <tr>\n",
       "      <th>125</th>\n",
       "      <td>Lao People's Democratic Republic</td>\n",
       "      <td>2</td>\n",
       "      <td>0.0</td>\n",
       "    </tr>\n",
       "    <tr>\n",
       "      <th>126</th>\n",
       "      <td>Liechtenstein</td>\n",
       "      <td>2</td>\n",
       "      <td>0.0</td>\n",
       "    </tr>\n",
       "    <tr>\n",
       "      <th>127</th>\n",
       "      <td>Zimbabwe</td>\n",
       "      <td>2</td>\n",
       "      <td>0.0</td>\n",
       "    </tr>\n",
       "    <tr>\n",
       "      <th>128</th>\n",
       "      <td>Gabon</td>\n",
       "      <td>2</td>\n",
       "      <td>0.0</td>\n",
       "    </tr>\n",
       "    <tr>\n",
       "      <th>129</th>\n",
       "      <td>Ghana</td>\n",
       "      <td>2</td>\n",
       "      <td>0.0</td>\n",
       "    </tr>\n",
       "    <tr>\n",
       "      <th>130</th>\n",
       "      <td>Rwanda</td>\n",
       "      <td>2</td>\n",
       "      <td>0.0</td>\n",
       "    </tr>\n",
       "    <tr>\n",
       "      <th>131</th>\n",
       "      <td>Uganda</td>\n",
       "      <td>2</td>\n",
       "      <td>0.0</td>\n",
       "    </tr>\n",
       "    <tr>\n",
       "      <th>132</th>\n",
       "      <td>Saint Kitts and Nevis</td>\n",
       "      <td>2</td>\n",
       "      <td>0.0</td>\n",
       "    </tr>\n",
       "    <tr>\n",
       "      <th>133</th>\n",
       "      <td>Kiribati</td>\n",
       "      <td>1</td>\n",
       "      <td>0.0</td>\n",
       "    </tr>\n",
       "    <tr>\n",
       "      <th>134</th>\n",
       "      <td>Guyana</td>\n",
       "      <td>1</td>\n",
       "      <td>0.0</td>\n",
       "    </tr>\n",
       "    <tr>\n",
       "      <th>135</th>\n",
       "      <td>Dominica</td>\n",
       "      <td>1</td>\n",
       "      <td>0.0</td>\n",
       "    </tr>\n",
       "    <tr>\n",
       "      <th>136</th>\n",
       "      <td>Zambia</td>\n",
       "      <td>1</td>\n",
       "      <td>0.0</td>\n",
       "    </tr>\n",
       "    <tr>\n",
       "      <th>137</th>\n",
       "      <td>Burundi</td>\n",
       "      <td>1</td>\n",
       "      <td>0.0</td>\n",
       "    </tr>\n",
       "    <tr>\n",
       "      <th>138</th>\n",
       "      <td>Seychelles</td>\n",
       "      <td>1</td>\n",
       "      <td>0.0</td>\n",
       "    </tr>\n",
       "    <tr>\n",
       "      <th>139</th>\n",
       "      <td>Bahamas</td>\n",
       "      <td>1</td>\n",
       "      <td>0.0</td>\n",
       "    </tr>\n",
       "    <tr>\n",
       "      <th>140</th>\n",
       "      <td>Botswana</td>\n",
       "      <td>1</td>\n",
       "      <td>0.0</td>\n",
       "    </tr>\n",
       "    <tr>\n",
       "      <th>141</th>\n",
       "      <td>Burkina Faso</td>\n",
       "      <td>1</td>\n",
       "      <td>0.0</td>\n",
       "    </tr>\n",
       "    <tr>\n",
       "      <th>142</th>\n",
       "      <td>American Samoa</td>\n",
       "      <td>1</td>\n",
       "      <td>0.0</td>\n",
       "    </tr>\n",
       "    <tr>\n",
       "      <th>143</th>\n",
       "      <td>Sierra Leone</td>\n",
       "      <td>1</td>\n",
       "      <td>0.0</td>\n",
       "    </tr>\n",
       "    <tr>\n",
       "      <th>144</th>\n",
       "      <td>Djibouti</td>\n",
       "      <td>1</td>\n",
       "      <td>0.0</td>\n",
       "    </tr>\n",
       "    <tr>\n",
       "      <th>145</th>\n",
       "      <td>Saint Lucia</td>\n",
       "      <td>1</td>\n",
       "      <td>0.0</td>\n",
       "    </tr>\n",
       "    <tr>\n",
       "      <th>146</th>\n",
       "      <td>Anguilla</td>\n",
       "      <td>1</td>\n",
       "      <td>0.0</td>\n",
       "    </tr>\n",
       "    <tr>\n",
       "      <th>147</th>\n",
       "      <td>Bahrain</td>\n",
       "      <td>1</td>\n",
       "      <td>0.0</td>\n",
       "    </tr>\n",
       "    <tr>\n",
       "      <th>148</th>\n",
       "      <td>Mauritania</td>\n",
       "      <td>1</td>\n",
       "      <td>0.0</td>\n",
       "    </tr>\n",
       "    <tr>\n",
       "      <th>149</th>\n",
       "      <td>Myanmar</td>\n",
       "      <td>1</td>\n",
       "      <td>0.0</td>\n",
       "    </tr>\n",
       "    <tr>\n",
       "      <th>150</th>\n",
       "      <td>French Southern Territories</td>\n",
       "      <td>1</td>\n",
       "      <td>0.0</td>\n",
       "    </tr>\n",
       "    <tr>\n",
       "      <th>151</th>\n",
       "      <td>Mali</td>\n",
       "      <td>1</td>\n",
       "      <td>0.0</td>\n",
       "    </tr>\n",
       "    <tr>\n",
       "      <th>152</th>\n",
       "      <td>Cayman Islands</td>\n",
       "      <td>1</td>\n",
       "      <td>0.0</td>\n",
       "    </tr>\n",
       "    <tr>\n",
       "      <th>153</th>\n",
       "      <td>Palau</td>\n",
       "      <td>1</td>\n",
       "      <td>0.0</td>\n",
       "    </tr>\n",
       "    <tr>\n",
       "      <th>154</th>\n",
       "      <td>Tajikistan</td>\n",
       "      <td>1</td>\n",
       "      <td>0.0</td>\n",
       "    </tr>\n",
       "    <tr>\n",
       "      <th>155</th>\n",
       "      <td>Macao</td>\n",
       "      <td>1</td>\n",
       "      <td>0.0</td>\n",
       "    </tr>\n",
       "    <tr>\n",
       "      <th>156</th>\n",
       "      <td>San Marino</td>\n",
       "      <td>1</td>\n",
       "      <td>0.0</td>\n",
       "    </tr>\n",
       "    <tr>\n",
       "      <th>157</th>\n",
       "      <td>Madagascar</td>\n",
       "      <td>1</td>\n",
       "      <td>0.0</td>\n",
       "    </tr>\n",
       "    <tr>\n",
       "      <th>158</th>\n",
       "      <td>Sudan</td>\n",
       "      <td>1</td>\n",
       "      <td>0.0</td>\n",
       "    </tr>\n",
       "    <tr>\n",
       "      <th>159</th>\n",
       "      <td>Namibia</td>\n",
       "      <td>1</td>\n",
       "      <td>0.0</td>\n",
       "    </tr>\n",
       "    <tr>\n",
       "      <th>160</th>\n",
       "      <td>Faroe Islands</td>\n",
       "      <td>1</td>\n",
       "      <td>0.0</td>\n",
       "    </tr>\n",
       "    <tr>\n",
       "      <th>161</th>\n",
       "      <td>French Polynesia</td>\n",
       "      <td>1</td>\n",
       "      <td>0.0</td>\n",
       "    </tr>\n",
       "    <tr>\n",
       "      <th>162</th>\n",
       "      <td>New Caledonia</td>\n",
       "      <td>1</td>\n",
       "      <td>0.0</td>\n",
       "    </tr>\n",
       "    <tr>\n",
       "      <th>163</th>\n",
       "      <td>Nepal</td>\n",
       "      <td>1</td>\n",
       "      <td>0.0</td>\n",
       "    </tr>\n",
       "  </tbody>\n",
       "</table>\n",
       "</div>"
      ],
      "text/plain": [
       "                          Country From  Total Guests  Percentage\n",
       "0    Portugal                           18347         26.0      \n",
       "1    United Kingdom                     9570          13.0      \n",
       "2    France                             8409          12.0      \n",
       "3    Spain                              6307          9.0       \n",
       "4    Germany                            6044          8.0       \n",
       "5    Ireland                            2514          3.0       \n",
       "6    Italy                              2395          3.0       \n",
       "7    Belgium                            1852          3.0       \n",
       "8    Netherlands                        1697          2.0       \n",
       "9    United States                      1578          2.0       \n",
       "10   Not Recognize                      1439          2.0       \n",
       "11   Brazil                             1380          2.0       \n",
       "12   Switzerland                        1299          2.0       \n",
       "13   Austria                            1023          1.0       \n",
       "14   Sweden                             789           1.0       \n",
       "15   Poland                             699           1.0       \n",
       "16   China                              529           1.0       \n",
       "17   Israel                             497           1.0       \n",
       "18   Norway                             424           1.0       \n",
       "19   Russian Federation                 390           1.0       \n",
       "20   Finland                            376           1.0       \n",
       "21   Romania                            366           1.0       \n",
       "22   Denmark                            325           0.0       \n",
       "23   Australia                          317           0.0       \n",
       "24   Luxembourg                         174           0.0       \n",
       "25   Japan                              166           0.0       \n",
       "26   Argentina                          159           0.0       \n",
       "27   Hungary                            153           0.0       \n",
       "28   Morocco                            148           0.0       \n",
       "29   Angola                             141           0.0       \n",
       "30   Turkey                             137           0.0       \n",
       "31   Czechia                            134           0.0       \n",
       "32   India                              117           0.0       \n",
       "33   Serbia                             98            0.0       \n",
       "34   Greece                             89            0.0       \n",
       "35   Algeria                            81            0.0       \n",
       "36   Korea, Republic of                 78            0.0       \n",
       "37   Mexico                             75            0.0       \n",
       "38   Croatia                            75            0.0       \n",
       "39   Lithuania                          74            0.0       \n",
       "40   New Zealand                        68            0.0       \n",
       "41   Estonia                            65            0.0       \n",
       "42   Bulgaria                           63            0.0       \n",
       "43   Iran, Islamic Republic of          60            0.0       \n",
       "44   Iceland                            52            0.0       \n",
       "45   Chile                              49            0.0       \n",
       "46   Ukraine                            48            0.0       \n",
       "47   South Africa                       48            0.0       \n",
       "48   Colombia                           48            0.0       \n",
       "49   Mozambique                         47            0.0       \n",
       "50   Latvia                             46            0.0       \n",
       "51   Thailand                           41            0.0       \n",
       "52   Slovakia                           41            0.0       \n",
       "53   Slovenia                           40            0.0       \n",
       "54   Cyprus                             40            0.0       \n",
       "55   Taiwan, Province of China          37            0.0       \n",
       "56   Malaysia                           25            0.0       \n",
       "57   Uruguay                            23            0.0       \n",
       "58   Singapore                          23            0.0       \n",
       "59   Peru                               22            0.0       \n",
       "60   Lebanon                            21            0.0       \n",
       "61   Egypt                              21            0.0       \n",
       "62   Ecuador                            19            0.0       \n",
       "63   Tunisia                            19            0.0       \n",
       "64   Jordan                             18            0.0       \n",
       "65   Costa Rica                         18            0.0       \n",
       "66   Belarus                            17            0.0       \n",
       "67   Philippines                        15            0.0       \n",
       "68   Saudi Arabia                       15            0.0       \n",
       "69   Oman                               14            0.0       \n",
       "70   Iraq                               14            0.0       \n",
       "71   Kazakhstan                         14            0.0       \n",
       "72   Venezuela, Bolivarian Republic of  14            0.0       \n",
       "73   Malta                              13            0.0       \n",
       "74   Nigeria                            12            0.0       \n",
       "75   Cabo Verde                         12            0.0       \n",
       "76   Indonesia                          11            0.0       \n",
       "77   Bolivia, Plurinational State of    10            0.0       \n",
       "78   Kuwait                             10            0.0       \n",
       "79   Cameroon                           10            0.0       \n",
       "80   Albania                            10            0.0       \n",
       "81   Bosnia and Herzegovina             10            0.0       \n",
       "82   Panama                             9             0.0       \n",
       "83   Guinea-Bissau                      8             0.0       \n",
       "84   North Macedonia                    8             0.0       \n",
       "85   Azerbaijan                         8             0.0       \n",
       "86   Cuba                               8             0.0       \n",
       "87   Libya                              8             0.0       \n",
       "88   Gibraltar                          7             0.0       \n",
       "89   United Arab Emirates               7             0.0       \n",
       "90   Georgia                            7             0.0       \n",
       "91   Sri Lanka                          7             0.0       \n",
       "92   Jamaica                            6             0.0       \n",
       "93   Mauritius                          6             0.0       \n",
       "94   Dominican Republic                 6             0.0       \n",
       "95   Viet Nam                           6             0.0       \n",
       "96   Armenia                            6             0.0       \n",
       "97   Central African Republic           5             0.0       \n",
       "98   Pakistan                           5             0.0       \n",
       "99   Suriname                           5             0.0       \n",
       "100  Qatar                              4             0.0       \n",
       "101  Guatemala                          4             0.0       \n",
       "102  Côte d'Ivoire                      4             0.0       \n",
       "103  Paraguay                           4             0.0       \n",
       "104  Barbados                           4             0.0       \n",
       "105  Kenya                              4             0.0       \n",
       "106  Puerto Rico                        4             0.0       \n",
       "107  Bangladesh                         3             0.0       \n",
       "108  Syrian Arab Republic               3             0.0       \n",
       "109  Monaco                             3             0.0       \n",
       "110  Maldives                           3             0.0       \n",
       "111  Hong Kong                          3             0.0       \n",
       "112  Montenegro                         3             0.0       \n",
       "113  Senegal                            3             0.0       \n",
       "114  Tanzania, United Republic of       2             0.0       \n",
       "115  Aruba                              2             0.0       \n",
       "116  El Salvador                        2             0.0       \n",
       "117  Ethiopia                           2             0.0       \n",
       "118  Comoros                            2             0.0       \n",
       "119  Sao Tome and Principe              2             0.0       \n",
       "120  Malawi                             2             0.0       \n",
       "121  Antarctica                         2             0.0       \n",
       "122  Togo                               2             0.0       \n",
       "123  Andorra                            2             0.0       \n",
       "124  Uzbekistan                         2             0.0       \n",
       "125  Lao People's Democratic Republic   2             0.0       \n",
       "126  Liechtenstein                      2             0.0       \n",
       "127  Zimbabwe                           2             0.0       \n",
       "128  Gabon                              2             0.0       \n",
       "129  Ghana                              2             0.0       \n",
       "130  Rwanda                             2             0.0       \n",
       "131  Uganda                             2             0.0       \n",
       "132  Saint Kitts and Nevis              2             0.0       \n",
       "133  Kiribati                           1             0.0       \n",
       "134  Guyana                             1             0.0       \n",
       "135  Dominica                           1             0.0       \n",
       "136  Zambia                             1             0.0       \n",
       "137  Burundi                            1             0.0       \n",
       "138  Seychelles                         1             0.0       \n",
       "139  Bahamas                            1             0.0       \n",
       "140  Botswana                           1             0.0       \n",
       "141  Burkina Faso                       1             0.0       \n",
       "142  American Samoa                     1             0.0       \n",
       "143  Sierra Leone                       1             0.0       \n",
       "144  Djibouti                           1             0.0       \n",
       "145  Saint Lucia                        1             0.0       \n",
       "146  Anguilla                           1             0.0       \n",
       "147  Bahrain                            1             0.0       \n",
       "148  Mauritania                         1             0.0       \n",
       "149  Myanmar                            1             0.0       \n",
       "150  French Southern Territories        1             0.0       \n",
       "151  Mali                               1             0.0       \n",
       "152  Cayman Islands                     1             0.0       \n",
       "153  Palau                              1             0.0       \n",
       "154  Tajikistan                         1             0.0       \n",
       "155  Macao                              1             0.0       \n",
       "156  San Marino                         1             0.0       \n",
       "157  Madagascar                         1             0.0       \n",
       "158  Sudan                              1             0.0       \n",
       "159  Namibia                            1             0.0       \n",
       "160  Faroe Islands                      1             0.0       \n",
       "161  French Polynesia                   1             0.0       \n",
       "162  New Caledonia                      1             0.0       \n",
       "163  Nepal                              1             0.0       "
      ]
     },
     "execution_count": 15,
     "metadata": {},
     "output_type": "execute_result"
    }
   ],
   "source": [
    "#List the country data\n",
    "list_country=pd.DataFrame(NoCancel[\"country_origin\"].value_counts()).reset_index()\n",
    "list_country.rename(columns={\"index\": \"Country From\", \n",
    "                             \"country_origin\":\"Total Guests\"}, inplace=True)\n",
    "list_country['Percentage']=round(list_country['Total Guests']*100/NoCancel.shape[0])\n",
    "\n",
    "pd.set_option('display.max_rows', None)\n",
    "list_country.head(164)"
   ]
  },
  {
   "cell_type": "markdown",
   "metadata": {},
   "source": [
    "#### This is Top 10 Country with most Guests in All Hotel"
   ]
  },
  {
   "cell_type": "code",
   "execution_count": 16,
   "metadata": {},
   "outputs": [
    {
     "data": {
      "image/png": "[encoded data removed]",
      "text/plain": [
       "<Figure size 1152x576 with 1 Axes>"
      ]
     },
     "metadata": {
      "needs_background": "light"
     },
     "output_type": "display_data"
    }
   ],
   "source": [
    "fig,ax = plt.subplots()\n",
    "fig.set_size_inches(16, 8)\n",
    "Top10=list_country[:10]\n",
    "ax = sns.barplot(x=Top10['Country From'] , y=Top10['Total Guests'])\n",
    "plt.title(\"Top 10 Country with most Guests in All Hotel\\n\",fontdict={'fontsize':20})\n",
    "plt.ylabel(\"Numbers of Bookings\",fontdict={'fontsize':15})\n",
    "plt.xlabel(\"Country\",fontdict={'fontsize':15})\n",
    "\n",
    "for p in ax.patches:\n",
    "    x = p.get_bbox().get_points()[:,0]\n",
    "    y = p.get_bbox().get_points()[1,1]\n",
    "    ax.annotate('{} ({:.2f})%'.format(int(y),y*100/len(NoCancel)),(x.mean(),y), ha=\"center\", va=\"bottom\");"
   ]
  },
  {
   "cell_type": "markdown",
   "metadata": {},
   "source": [
    "## Q2: How much do guests pay for a room per night?"
   ]
  },
  {
   "cell_type": "code",
   "execution_count": 17,
   "metadata": {
    "scrolled": true
   },
   "outputs": [
    {
     "data": {
      "text/html": [
       "<div>\n",
       "<style scoped>\n",
       "    .dataframe tbody tr th:only-of-type {\n",
       "        vertical-align: middle;\n",
       "    }\n",
       "\n",
       "    .dataframe tbody tr th {\n",
       "        vertical-align: top;\n",
       "    }\n",
       "\n",
       "    .dataframe thead th {\n",
       "        text-align: right;\n",
       "    }\n",
       "</style>\n",
       "<table border=\"1\" class=\"dataframe\">\n",
       "  <thead>\n",
       "    <tr style=\"text-align: right;\">\n",
       "      <th></th>\n",
       "      <th>index</th>\n",
       "      <th>adr</th>\n",
       "    </tr>\n",
       "  </thead>\n",
       "  <tbody>\n",
       "    <tr>\n",
       "      <th>0</th>\n",
       "      <td>count</td>\n",
       "      <td>119390.000000</td>\n",
       "    </tr>\n",
       "    <tr>\n",
       "      <th>1</th>\n",
       "      <td>mean</td>\n",
       "      <td>101.831122</td>\n",
       "    </tr>\n",
       "    <tr>\n",
       "      <th>2</th>\n",
       "      <td>std</td>\n",
       "      <td>50.535790</td>\n",
       "    </tr>\n",
       "    <tr>\n",
       "      <th>3</th>\n",
       "      <td>min</td>\n",
       "      <td>-6.380000</td>\n",
       "    </tr>\n",
       "    <tr>\n",
       "      <th>4</th>\n",
       "      <td>25%</td>\n",
       "      <td>69.290000</td>\n",
       "    </tr>\n",
       "    <tr>\n",
       "      <th>5</th>\n",
       "      <td>50%</td>\n",
       "      <td>94.575000</td>\n",
       "    </tr>\n",
       "    <tr>\n",
       "      <th>6</th>\n",
       "      <td>75%</td>\n",
       "      <td>126.000000</td>\n",
       "    </tr>\n",
       "    <tr>\n",
       "      <th>7</th>\n",
       "      <td>max</td>\n",
       "      <td>5400.000000</td>\n",
       "    </tr>\n",
       "  </tbody>\n",
       "</table>\n",
       "</div>"
      ],
      "text/plain": [
       "   index            adr\n",
       "0  count  119390.000000\n",
       "1  mean   101.831122   \n",
       "2  std    50.535790    \n",
       "3  min   -6.380000     \n",
       "4  25%    69.290000    \n",
       "5  50%    94.575000    \n",
       "6  75%    126.000000   \n",
       "7  max    5400.000000  "
      ]
     },
     "execution_count": 17,
     "metadata": {},
     "output_type": "execute_result"
    }
   ],
   "source": [
    "pd.DataFrame(df.adr.describe()).reset_index()"
   ]
  },
  {
   "cell_type": "markdown",
   "metadata": {},
   "source": [
    "From the table, we can see that there are strange adr showed in the data. There are guests where adr is <0 **(You can see the minimum is -6.38$)**."
   ]
  },
  {
   "cell_type": "markdown",
   "metadata": {},
   "source": [
    "So, for this case. I will drop the guests who have **adr<0** and use mean"
   ]
  },
  {
   "cell_type": "markdown",
   "metadata": {},
   "source": [
    "##### In this case, I only show the guests who not cancel the booking, and show average payment of every guest group by hotel_type"
   ]
  },
  {
   "cell_type": "code",
   "execution_count": 18,
   "metadata": {},
   "outputs": [
    {
     "name": "stdout",
     "output_type": "stream",
     "text": [
      "Average Price (all type hotel and room) is $101.83112153446453\n",
      "Average Price: City Hotel (all type room) is $108.27313340272732\n",
      "Average Price: Resort Hotel (all type room) is $90.78897055774631\n",
      "\n",
      "Average price for each room type of city hotel type:\n",
      "Room type A: $99.1\n",
      "Room type B: $97.5\n",
      "Room type C: $110.4\n",
      "Room type D: $117.9\n",
      "Room type E: $142.2\n",
      "Room type F: $178.2\n",
      "Room type G: $196.8\n",
      "Room type K: $102.1\n",
      "\n",
      "\n",
      "Average price for each room type of resort hotel type:\n",
      "Room type A: $80.1\n",
      "Room type B: $102.3\n",
      "Room type C: $107.1\n",
      "Room type D: $81.3\n",
      "Room type E: $101.0\n",
      "Room type F: $117.3\n",
      "Room type G: $148.8\n",
      "Room type H: $158.0\n",
      "Room type I: $40.1\n"
     ]
    }
   ],
   "source": [
    "allhotel=df[(df['is_canceled'] == 0) & (df.adr > 0) ]\n",
    "city_hotel = df[(df['hotel_type']=='City Hotel') & (df['is_canceled'] == 0) & (df.adr > 0) ]\n",
    "resort_hotel = df[(df['hotel_type']=='Resort Hotel') & (df['is_canceled'] == 0 & (df.adr > 0))]\n",
    "\n",
    "#Average payment\n",
    "print('Average Price (all type hotel and room) is ${}'.format(df.adr.mean()))\n",
    "print('Average Price: City Hotel (all type room) is ${}'.format(city_hotel.adr.mean()))\n",
    "print('Average Price: Resort Hotel (all type room) is ${}\\n'.format(resort_hotel.adr.mean()))\n",
    "\n",
    "room_city = city_hotel.groupby('assigned_room_type')['adr'].mean().reset_index()\n",
    "print('Average price for each room type of city hotel type:')\n",
    "x = room_city.apply(lambda x: print('Room type {}: ${}'.format(x[0],round(x[1],1))),axis = 1)\n",
    "print('\\n')\n",
    "print('Average price for each room type of resort hotel type:')\n",
    "room_resort = resort_hotel.groupby('assigned_room_type')['adr'].mean().reset_index()\n",
    "x = room_resort.apply(lambda x: print('Room type {}: ${}'.format(x[0],round(x[1],1))),axis = 1)"
   ]
  },
  {
   "cell_type": "markdown",
   "metadata": {},
   "source": [
    "## Q3: How does the price per night vary over the year?"
   ]
  },
  {
   "cell_type": "markdown",
   "metadata": {},
   "source": [
    "In this case, I will only choose the data with adr>0 and no cancel booking. Because, in my opinion (just like what I mention in previous question) the guest with adr<0 is an exception."
   ]
  },
  {
   "cell_type": "markdown",
   "metadata": {},
   "source": [
    "##### To prevent failure when dividing adr with total guest, I will remove \"zero value\" guest"
   ]
  },
  {
   "cell_type": "code",
   "execution_count": 19,
   "metadata": {},
   "outputs": [
    {
     "name": "stderr",
     "output_type": "stream",
     "text": [
      "C:\\Users\\Rezki Hadiansah\\anaconda3\\lib\\site-packages\\pandas\\core\\indexing.py:844: SettingWithCopyWarning: \n",
      "A value is trying to be set on a copy of a slice from a DataFrame.\n",
      "Try using .loc[row_indexer,col_indexer] = value instead\n",
      "\n",
      "See the caveats in the documentation: https://pandas.pydata.org/pandas-docs/stable/user_guide/indexing.html#returning-a-view-versus-a-copy\n",
      "  self.obj[key] = _infer_fill_value(value)\n",
      "C:\\Users\\Rezki Hadiansah\\anaconda3\\lib\\site-packages\\pandas\\core\\indexing.py:965: SettingWithCopyWarning: \n",
      "A value is trying to be set on a copy of a slice from a DataFrame.\n",
      "Try using .loc[row_indexer,col_indexer] = value instead\n",
      "\n",
      "See the caveats in the documentation: https://pandas.pydata.org/pandas-docs/stable/user_guide/indexing.html#returning-a-view-versus-a-copy\n",
      "  self.obj[item] = s\n"
     ]
    }
   ],
   "source": [
    "NoZeroNoCancel = NoCancel[(NoCancel.loc[:,'adults'] > 0) & \n",
    "                          (NoCancel.loc[:,'children'] > 0)]\n",
    "\n",
    "#Create new feature [Total Guests]\n",
    "NoZeroNoCancel.loc[:,'total guests'] = NoZeroNoCancel.loc[:,'adults'] + NoZeroNoCancel.loc[:,'children']\n",
    "\n",
    "#Create new feature [Guest Pay]\n",
    "NoZeroNoCancel.loc[:,'guests pay'] = NoZeroNoCancel.loc[:,'adr'] / NoZeroNoCancel.loc[:,'total guests']\n",
    "\n",
    "#Separate by type hotel\n",
    "\n",
    "ZC_resort = NoZeroNoCancel[NoZeroNoCancel.loc[:,'hotel_type'] == 'Resort Hotel']\n",
    "ZC_city = NoZeroNoCancel[NoZeroNoCancel.loc[:,'hotel_type'] == 'City Hotel']"
   ]
  },
  {
   "cell_type": "code",
   "execution_count": 20,
   "metadata": {
    "scrolled": false
   },
   "outputs": [
    {
     "data": {
      "image/png": "[encoded data removed]",
      "text/plain": [
       "<Figure size 1080x576 with 1 Axes>"
      ]
     },
     "metadata": {
      "needs_background": "light"
     },
     "output_type": "display_data"
    }
   ],
   "source": [
    "PerMonth = NoZeroNoCancel.loc[:,['hotel_type','arrival_date_month','guests pay']]\n",
    "\n",
    "#Sort the month\n",
    "months = [\"January\", \"February\", \"March\", \"April\", \"May\", \"June\", \n",
    "          \"July\", \"August\", \"September\", \"October\", \"November\", \"December\"]\n",
    "\n",
    "PerMonth.loc[:,'arrival_date_month'] = pd.Categorical(PerMonth.loc[:,'arrival_date_month'], categories=months)\n",
    "\n",
    "#plot the data\n",
    "plt.figure(figsize=(15, 8))\n",
    "sns.lineplot(x = \"arrival_date_month\", y=\"guests pay\", data=PerMonth)\n",
    "plt.title(\"Room Price every month [2015-2017]\", fontsize=17)\n",
    "plt.xlabel(\"Month\", fontsize=16)\n",
    "plt.ylabel(\"Price\", fontsize=16)\n",
    "plt.show()"
   ]
  },
  {
   "cell_type": "markdown",
   "metadata": {},
   "source": [
    "1. From the plot above we can conclude that the price in All Hotel were always increasing until **August**. And then, the price is decreasing by time. In my opinion, this is happend because August is the end of summer season.\n",
    "2. The decreasing was going until November, then increasing again. In my opinion, this is happend because November is the end of winter season"
   ]
  },
  {
   "cell_type": "markdown",
   "metadata": {},
   "source": [
    "##### Now, we will see the plot group by the type of hotel"
   ]
  },
  {
   "cell_type": "code",
   "execution_count": 21,
   "metadata": {
    "scrolled": true
   },
   "outputs": [
    {
     "data": {
      "image/png": "[encoded data removed]",
      "text/plain": [
       "<Figure size 1080x576 with 1 Axes>"
      ]
     },
     "metadata": {
      "needs_background": "light"
     },
     "output_type": "display_data"
    }
   ],
   "source": [
    "plt.figure(figsize=(15, 8))\n",
    "sns.lineplot(x = \"arrival_date_month\", y=\"guests pay\",hue='hotel_type', data=PerMonth, hue_order = [\"Resort Hotel\", \"City Hotel\"])\n",
    "plt.title(\"Room Price every month [2015-2017]\", fontsize=17)\n",
    "plt.xlabel(\"Month\", fontsize=16)\n",
    "plt.ylabel(\"Price\", fontsize=16)\n",
    "plt.show()"
   ]
  },
  {
   "cell_type": "markdown",
   "metadata": {},
   "source": [
    "From the line chart above, we can conclude that City Hotel has less price than Resort Hotel in August. It is obvious because lots of people go vacation in the start of summer not to City but to Resort."
   ]
  },
  {
   "cell_type": "markdown",
   "metadata": {},
   "source": [
    "## Q4: Which are the busiest months?"
   ]
  },
  {
   "cell_type": "markdown",
   "metadata": {},
   "source": [
    "#### First, we will check the busiest month for All Hotel"
   ]
  },
  {
   "cell_type": "code",
   "execution_count": 22,
   "metadata": {},
   "outputs": [
    {
     "data": {
      "image/png": "[encoded data removed]",
      "text/plain": [
       "<Figure size 1152x576 with 1 Axes>"
      ]
     },
     "metadata": {
      "needs_background": "light"
     },
     "output_type": "display_data"
    }
   ],
   "source": [
    "#Create Plot\n",
    "fig,ax = plt.subplots()\n",
    "fig.set_size_inches(16, 8)\n",
    "ax = sns.countplot(NoCancel.arrival_date_month, order=months)\n",
    "plt.ylabel(\"Number of Bookings\")\n",
    "plt.xlabel(\"Month\")\n",
    "plt.title(\"Busiest Month for All Hotel Type\",fontdict={'fontsize':20})\n",
    "\n",
    "countmonth=NoCancel.arrival_date_month.value_counts()\n",
    "for p in ax.patches:\n",
    "    if p.get_bbox().get_points()[1,1]== max(countmonth):\n",
    "        p.set_color('blue')\n",
    "    elif p.get_bbox().get_points()[1,1]== min(countmonth):\n",
    "        p.set_color('red')\n",
    "    else:\n",
    "        p.set_color('grey');"
   ]
  },
  {
   "cell_type": "code",
   "execution_count": 23,
   "metadata": {},
   "outputs": [
    {
     "name": "stdout",
     "output_type": "stream",
     "text": [
      "August was the busiest month overall year 2015-2017 with total booking:\n",
      " 8490\n"
     ]
    }
   ],
   "source": [
    "print('August was the busiest month overall year 2015-2017 with total booking:\\n', countmonth[0])"
   ]
  },
  {
   "cell_type": "markdown",
   "metadata": {},
   "source": [
    "From the plot above, we get insight that Busiest Month is August for All hotels. Now we will see the busiest month for every type of hotel."
   ]
  },
  {
   "cell_type": "markdown",
   "metadata": {},
   "source": [
    "#### TypeHotel=City Hotel"
   ]
  },
  {
   "cell_type": "code",
   "execution_count": 24,
   "metadata": {},
   "outputs": [],
   "source": [
    "NoCancel_CityHotel=NoCancel[NoCancel['hotel_type']=='City Hotel']"
   ]
  },
  {
   "cell_type": "code",
   "execution_count": 25,
   "metadata": {},
   "outputs": [
    {
     "name": "stdout",
     "output_type": "stream",
     "text": [
      "August was the busiest month overall year 2015-2017 with total booking:\n",
      " 5310\n"
     ]
    },
    {
     "data": {
      "image/png": "[encoded data removed]",
      "text/plain": [
       "<Figure size 1152x576 with 1 Axes>"
      ]
     },
     "metadata": {
      "needs_background": "light"
     },
     "output_type": "display_data"
    }
   ],
   "source": [
    "#Create Plot\n",
    "fig,ax = plt.subplots()\n",
    "fig.set_size_inches(16, 8)\n",
    "ax = sns.countplot(NoCancel_CityHotel.arrival_date_month, order=months)\n",
    "plt.ylabel(\"Number of Bookings\")\n",
    "plt.xlabel(\"Month\")\n",
    "plt.title(\"Busiest Month for City Hotel Type\",fontdict={'fontsize':20})\n",
    "\n",
    "countmonth_city=NoCancel_CityHotel.arrival_date_month.value_counts()\n",
    "for p in ax.patches:\n",
    "    if p.get_bbox().get_points()[1,1]== max(countmonth_city):\n",
    "        p.set_color('blue')\n",
    "    elif p.get_bbox().get_points()[1,1]== min(countmonth_city):\n",
    "        p.set_color('red')\n",
    "    else:\n",
    "        p.set_color('grey');\n",
    "print('August was the busiest month overall year 2015-2017 with total booking:\\n', countmonth_city[0])"
   ]
  },
  {
   "cell_type": "markdown",
   "metadata": {},
   "source": [
    "From that plot, we got that for **City Hotel**, the busiest month is August with total 5310 booking"
   ]
  },
  {
   "cell_type": "code",
   "execution_count": 26,
   "metadata": {},
   "outputs": [],
   "source": [
    "NoCancel_ResortHotel=NoCancel[NoCancel['hotel_type']=='Resort Hotel']"
   ]
  },
  {
   "cell_type": "code",
   "execution_count": 27,
   "metadata": {},
   "outputs": [
    {
     "name": "stdout",
     "output_type": "stream",
     "text": [
      "August was still the busiest month overall year 2015-2017 with total booking:\n",
      " 3180\n"
     ]
    },
    {
     "data": {
      "image/png": "[encoded data removed]",
      "text/plain": [
       "<Figure size 1152x576 with 1 Axes>"
      ]
     },
     "metadata": {
      "needs_background": "light"
     },
     "output_type": "display_data"
    }
   ],
   "source": [
    "#Create Plot\n",
    "fig,ax = plt.subplots()\n",
    "fig.set_size_inches(16, 8)\n",
    "ax = sns.countplot(NoCancel_ResortHotel.arrival_date_month, order=months)\n",
    "plt.ylabel(\"Number of Bookings\")\n",
    "plt.xlabel(\"Month\")\n",
    "plt.title(\"Busiest Month for Resort Hotel Type\",fontdict={'fontsize':20})\n",
    "\n",
    "countmonth_resort=NoCancel_ResortHotel.arrival_date_month.value_counts()\n",
    "for p in ax.patches:\n",
    "    if p.get_bbox().get_points()[1,1]== max(countmonth_resort):\n",
    "        p.set_color('blue')\n",
    "    elif p.get_bbox().get_points()[1,1]== min(countmonth_resort):\n",
    "        p.set_color('red')\n",
    "    else:\n",
    "        p.set_color('grey');\n",
    "print('August was still the busiest month overall year 2015-2017 with total booking:\\n', \n",
    "      countmonth_resort[0])"
   ]
  },
  {
   "cell_type": "markdown",
   "metadata": {},
   "source": [
    "## Q5: How long do people stay at the hotels?"
   ]
  },
  {
   "cell_type": "code",
   "execution_count": 28,
   "metadata": {},
   "outputs": [],
   "source": [
    "#Make a function\n",
    "A='All Hotel'\n",
    "C='City Hotel'\n",
    "R='Resort Hotel'\n",
    "def avg_stay(data,hotel):\n",
    "    num_night = []\n",
    "    data.reset_index(inplace=True)\n",
    "    data.drop(columns=\"index\", inplace=True)\n",
    "    for i in range(0,len(data)):\n",
    "        weekend = data.loc[i,'stays_in_weekend_nights']\n",
    "        week = data.loc[i,'stays_in_week_nights']\n",
    "        total = weekend + week\n",
    "        num_night.append(total)\n",
    "    print(\"People stay at the hotel ({}) for an average of {} days.\".format(hotel,int(np.mean(num_night))))"
   ]
  },
  {
   "cell_type": "markdown",
   "metadata": {},
   "source": [
    "#### All Hotel"
   ]
  },
  {
   "cell_type": "code",
   "execution_count": 29,
   "metadata": {},
   "outputs": [
    {
     "name": "stdout",
     "output_type": "stream",
     "text": [
      "People stay at the hotel (All Hotel) for an average of 3 days.\n"
     ]
    }
   ],
   "source": [
    "avg_stay(NoCancel,A)"
   ]
  },
  {
   "cell_type": "markdown",
   "metadata": {},
   "source": [
    "#### City Hotel"
   ]
  },
  {
   "cell_type": "code",
   "execution_count": 30,
   "metadata": {},
   "outputs": [],
   "source": [
    "import warnings\n",
    "warnings.filterwarnings(\"ignore\")"
   ]
  },
  {
   "cell_type": "code",
   "execution_count": 31,
   "metadata": {
    "scrolled": true
   },
   "outputs": [
    {
     "name": "stdout",
     "output_type": "stream",
     "text": [
      "People stay at the hotel (City Hotel) for an average of 2 days.\n"
     ]
    }
   ],
   "source": [
    "avg_stay(NoCancel_CityHotel,C)"
   ]
  },
  {
   "cell_type": "markdown",
   "metadata": {},
   "source": [
    "#### Resort Hotel"
   ]
  },
  {
   "cell_type": "code",
   "execution_count": 32,
   "metadata": {},
   "outputs": [
    {
     "name": "stdout",
     "output_type": "stream",
     "text": [
      "People stay at the hotel (Resort Hotel) for an average of 4 days.\n"
     ]
    }
   ],
   "source": [
    "avg_stay(NoCancel_ResortHotel,R)"
   ]
  },
  {
   "cell_type": "markdown",
   "metadata": {},
   "source": [
    "## Q6: Booking by market segment"
   ]
  },
  {
   "cell_type": "markdown",
   "metadata": {},
   "source": [
    "In this case, we will use the original cleaned version data (**df**). We want to know what market segment are most preferred by guest."
   ]
  },
  {
   "cell_type": "code",
   "execution_count": 33,
   "metadata": {},
   "outputs": [],
   "source": [
    "count_market_segment=df.market_segment.value_counts()"
   ]
  },
  {
   "cell_type": "code",
   "execution_count": 34,
   "metadata": {},
   "outputs": [
    {
     "data": {
      "image/png": "[encoded data removed]",
      "text/plain": [
       "<Figure size 1152x576 with 1 Axes>"
      ]
     },
     "metadata": {
      "needs_background": "light"
     },
     "output_type": "display_data"
    }
   ],
   "source": [
    "fig,ax = plt.subplots()\n",
    "fig.set_size_inches(16, 8)\n",
    "ax = sns.countplot(df.market_segment)\n",
    "\n",
    "plt.title(\"Frequencies of Booking by Market Segment\", fontdict={'fontsize':24})\n",
    "plt.xlabel(\"\")\n",
    "plt.ylabel(\"Number of Bookings\")\n",
    "\n",
    "for p in ax.patches:\n",
    "    if p.get_bbox().get_points()[1,1]==max(count_market_segment):\n",
    "        p.set_color('green')\n",
    "    elif p.get_bbox().get_points()[1,1]== min(count_market_segment):\n",
    "        p.set_color('red')\n",
    "    else:\n",
    "        p.set_color('grey');"
   ]
  },
  {
   "cell_type": "code",
   "execution_count": 35,
   "metadata": {},
   "outputs": [
    {
     "name": "stdout",
     "output_type": "stream",
     "text": [
      "Online TA has the highest total booking with 56477 total booking\n"
     ]
    }
   ],
   "source": [
    "print('Online TA has the highest total booking with {} total booking'\n",
    "      .format(max(count_market_segment)))"
   ]
  },
  {
   "cell_type": "markdown",
   "metadata": {},
   "source": [
    "## Q7: How many booking were canceled?"
   ]
  },
  {
   "cell_type": "markdown",
   "metadata": {},
   "source": [
    "First, we divide the data between **City Hotel** and **Resort Hotel** from original cleaned data (**df**). "
   ]
  },
  {
   "cell_type": "code",
   "execution_count": 36,
   "metadata": {},
   "outputs": [],
   "source": [
    "resort_hotel = df[df['hotel_type']== 'Resort Hotel']\n",
    "city_hotel = df[df['hotel_type'] == 'City Hotel']"
   ]
  },
  {
   "cell_type": "markdown",
   "metadata": {},
   "source": [
    "To count total booking that were canceled, just count the shape of data"
   ]
  },
  {
   "cell_type": "code",
   "execution_count": 37,
   "metadata": {},
   "outputs": [],
   "source": [
    "def CountCancel(data,type_hotel):\n",
    "    total   = data[data['is_canceled']==1].shape[0]\n",
    "    all     = data.shape[0]\n",
    "    percent = round(total*100/all,2)\n",
    "    print('Total Guests who cancelled their booking for {} is {} or {}% from {} total booking'\n",
    "          .format(type_hotel,total, percent, all))"
   ]
  },
  {
   "cell_type": "markdown",
   "metadata": {},
   "source": [
    "#### For All Hotel"
   ]
  },
  {
   "cell_type": "code",
   "execution_count": 38,
   "metadata": {},
   "outputs": [
    {
     "name": "stdout",
     "output_type": "stream",
     "text": [
      "Total Guests who cancelled their booking for All Hotel is 44224 or 37.04% from 119390 total booking\n"
     ]
    }
   ],
   "source": [
    "CountCancel(df,A)"
   ]
  },
  {
   "cell_type": "markdown",
   "metadata": {},
   "source": [
    "#### For City Hotel"
   ]
  },
  {
   "cell_type": "code",
   "execution_count": 39,
   "metadata": {},
   "outputs": [
    {
     "name": "stdout",
     "output_type": "stream",
     "text": [
      "Total Guests who cancelled their booking for City Hotel is 44224 or 37.04% from 119390 total booking\n"
     ]
    }
   ],
   "source": [
    "CountCancel(df,C)"
   ]
  },
  {
   "cell_type": "markdown",
   "metadata": {},
   "source": [
    "#### For Resort Hotel"
   ]
  },
  {
   "cell_type": "code",
   "execution_count": 40,
   "metadata": {},
   "outputs": [
    {
     "name": "stdout",
     "output_type": "stream",
     "text": [
      "Total Guests who cancelled their booking for Resort Hotel is 44224 or 37.04% from 119390 total booking\n"
     ]
    }
   ],
   "source": [
    "CountCancel(df,R)"
   ]
  },
  {
   "cell_type": "markdown",
   "metadata": {},
   "source": [
    "## Q8: Which month has the highest number of cancellations?"
   ]
  },
  {
   "cell_type": "markdown",
   "metadata": {},
   "source": [
    "For this case, we just need to count guests who did cancellation every month."
   ]
  },
  {
   "cell_type": "code",
   "execution_count": 41,
   "metadata": {},
   "outputs": [],
   "source": [
    "CancelAll=df[df['is_canceled']==1]\n",
    "CancelCity=city_hotel[city_hotel['is_canceled']==1]\n",
    "CancelResort=resort_hotel[resort_hotel['is_canceled']==1]"
   ]
  },
  {
   "cell_type": "code",
   "execution_count": 42,
   "metadata": {},
   "outputs": [],
   "source": [
    "def Total_Cancel(Data,type_hotel):    \n",
    "    fig,ax = plt.subplots()\n",
    "    fig.set_size_inches(16, 8)\n",
    "    ax = sns.countplot(Data.arrival_date_month, order=months)\n",
    "    plt.ylabel(\"Number of Cancelled Bookings\")\n",
    "    plt.xlabel(\"Month\")\n",
    "    count_cancel=Data.arrival_date_month.value_counts()\n",
    "    count_cancel_df=pd.DataFrame(count_cancel).reset_index()\n",
    "    for p in ax.patches:\n",
    "        if p.get_bbox().get_points()[1,1]==max(count_cancel):\n",
    "            p.set_color('green')\n",
    "        elif p.get_bbox().get_points()[1,1]== min(count_cancel):\n",
    "            p.set_color('red')\n",
    "        else:\n",
    "            p.set_color('grey');\n",
    "    print('{} is the month with highest of cancelation booking ({}) in 2015-2017 with total {} booking cancelations'\n",
    "         .format(count_cancel_df.loc[0,'index'],type_hotel,max(count_cancel)))"
   ]
  },
  {
   "cell_type": "markdown",
   "metadata": {},
   "source": [
    "### For All Hotel"
   ]
  },
  {
   "cell_type": "code",
   "execution_count": 43,
   "metadata": {},
   "outputs": [
    {
     "name": "stdout",
     "output_type": "stream",
     "text": [
      "August is the month with highest of cancelation booking (All Hotel) in 2015-2017 with total 5239 booking cancelations\n"
     ]
    },
    {
     "data": {
      "image/png": "[encoded data removed]",
      "text/plain": [
       "<Figure size 1152x576 with 1 Axes>"
      ]
     },
     "metadata": {
      "needs_background": "light"
     },
     "output_type": "display_data"
    }
   ],
   "source": [
    "Total_Cancel(CancelAll,A)"
   ]
  },
  {
   "cell_type": "markdown",
   "metadata": {},
   "source": [
    "### For City Hotel"
   ]
  },
  {
   "cell_type": "code",
   "execution_count": 44,
   "metadata": {},
   "outputs": [
    {
     "name": "stdout",
     "output_type": "stream",
     "text": [
      "May is the month with highest of cancelation booking (City Hotel) in 2015-2017 with total 3653 booking cancelations\n"
     ]
    },
    {
     "data": {
      "image/png": "[encoded data removed]",
      "text/plain": [
       "<Figure size 1152x576 with 1 Axes>"
      ]
     },
     "metadata": {
      "needs_background": "light"
     },
     "output_type": "display_data"
    }
   ],
   "source": [
    "Total_Cancel(CancelCity,C)"
   ]
  },
  {
   "cell_type": "markdown",
   "metadata": {},
   "source": [
    "### For Resort Hotel"
   ]
  },
  {
   "cell_type": "code",
   "execution_count": 45,
   "metadata": {},
   "outputs": [
    {
     "name": "stdout",
     "output_type": "stream",
     "text": [
      "August is the month with highest of cancelation booking (Resort Hotel) in 2015-2017 with total 1637 booking cancelations\n"
     ]
    },
    {
     "data": {
      "image/png": "[encoded data removed]",
      "text/plain": [
       "<Figure size 1152x576 with 1 Axes>"
      ]
     },
     "metadata": {
      "needs_background": "light"
     },
     "output_type": "display_data"
    }
   ],
   "source": [
    "Total_Cancel(CancelResort,R)"
   ]
  }
 ],
 "metadata": {
  "kernelspec": {
   "display_name": "Python 3",
   "language": "python",
   "name": "python3"
  },
  "language_info": {
   "codemirror_mode": {
    "name": "ipython",
    "version": 3
   },
   "file_extension": ".py",
   "mimetype": "text/x-python",
   "name": "python",
   "nbconvert_exporter": "python",
   "pygments_lexer": "ipython3",
   "version": "3.7.6"
  }
 },
 "nbformat": 4,
 "nbformat_minor": 4
}
